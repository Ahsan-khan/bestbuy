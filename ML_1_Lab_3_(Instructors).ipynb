{
 "cells": [
  {
   "cell_type": "markdown",
   "id": "b3a6f436-7259-49e6-a3b8-f9e81e78e433",
   "metadata": {},
   "source": [
    "# Lab 3: Regression"
   ]
  },
  {
   "cell_type": "markdown",
   "id": "28d073c1-bd3a-428d-aa8a-2651b4724572",
   "metadata": {},
   "source": [
    "In this lab we will be working with three regression models. The type you pick depends on the relationship between the features and the target variables."
   ]
  },
  {
   "cell_type": "code",
   "execution_count": 1,
   "id": "80b7dd15-8c28-4348-8133-05abe2ed99c4",
   "metadata": {},
   "outputs": [],
   "source": [
    "#Crucial data processing and analysis libraries\n",
    "import numpy as np\n",
    "import pandas as pd\n",
    "import matplotlib.pyplot as plt\n",
    "\n",
    "#Loading the modules required to build and evaluate a Regression model\n",
    "from sklearn.model_selection import train_test_split\n",
    "from sklearn.preprocessing import StandardScaler \n",
    "from sklearn.metrics import accuracy_score\n",
    "from sklearn.metrics import mean_squared_error\n",
    "from sklearn.metrics import r2_score\n",
    "\n",
    "\n",
    "#Loading the boston housing dataset from sklearn\n",
    "from sklearn.datasets import load_boston"
   ]
  },
  {
   "cell_type": "markdown",
   "id": "7f1d16cc-646c-4907-92e4-c510c530b44a",
   "metadata": {},
   "source": [
    "##### Preparing the Data"
   ]
  },
  {
   "cell_type": "code",
   "execution_count": 2,
   "id": "037fe141-1b1c-4d14-a7fb-df458c3ff8d9",
   "metadata": {},
   "outputs": [],
   "source": [
    "boston = load_boston()\n",
    "\n",
    "# The dependent variable. This is the Median value of owner-occupied homes in $1000's\n",
    "y = boston.target\n",
    "\n",
    "#Features\n",
    "X = boston.data"
   ]
  },
  {
   "cell_type": "code",
   "execution_count": 4,
   "id": "676f6c37-7cf7-4799-9663-963a05b70cc7",
   "metadata": {},
   "outputs": [
    {
     "data": {
      "text/html": [
       "<div>\n",
       "<style scoped>\n",
       "    .dataframe tbody tr th:only-of-type {\n",
       "        vertical-align: middle;\n",
       "    }\n",
       "\n",
       "    .dataframe tbody tr th {\n",
       "        vertical-align: top;\n",
       "    }\n",
       "\n",
       "    .dataframe thead th {\n",
       "        text-align: right;\n",
       "    }\n",
       "</style>\n",
       "<table border=\"1\" class=\"dataframe\">\n",
       "  <thead>\n",
       "    <tr style=\"text-align: right;\">\n",
       "      <th></th>\n",
       "      <th>CRIM</th>\n",
       "      <th>ZN</th>\n",
       "      <th>INDUS</th>\n",
       "      <th>CHAS</th>\n",
       "      <th>NOX</th>\n",
       "      <th>RM</th>\n",
       "      <th>AGE</th>\n",
       "      <th>DIS</th>\n",
       "      <th>RAD</th>\n",
       "      <th>TAX</th>\n",
       "      <th>PTRATIO</th>\n",
       "      <th>B</th>\n",
       "      <th>LSTAT</th>\n",
       "    </tr>\n",
       "  </thead>\n",
       "  <tbody>\n",
       "    <tr>\n",
       "      <th>0</th>\n",
       "      <td>0.00632</td>\n",
       "      <td>18.0</td>\n",
       "      <td>2.31</td>\n",
       "      <td>0.0</td>\n",
       "      <td>0.538</td>\n",
       "      <td>6.575</td>\n",
       "      <td>65.2</td>\n",
       "      <td>4.0900</td>\n",
       "      <td>1.0</td>\n",
       "      <td>296.0</td>\n",
       "      <td>15.3</td>\n",
       "      <td>396.90</td>\n",
       "      <td>4.98</td>\n",
       "    </tr>\n",
       "    <tr>\n",
       "      <th>1</th>\n",
       "      <td>0.02731</td>\n",
       "      <td>0.0</td>\n",
       "      <td>7.07</td>\n",
       "      <td>0.0</td>\n",
       "      <td>0.469</td>\n",
       "      <td>6.421</td>\n",
       "      <td>78.9</td>\n",
       "      <td>4.9671</td>\n",
       "      <td>2.0</td>\n",
       "      <td>242.0</td>\n",
       "      <td>17.8</td>\n",
       "      <td>396.90</td>\n",
       "      <td>9.14</td>\n",
       "    </tr>\n",
       "    <tr>\n",
       "      <th>2</th>\n",
       "      <td>0.02729</td>\n",
       "      <td>0.0</td>\n",
       "      <td>7.07</td>\n",
       "      <td>0.0</td>\n",
       "      <td>0.469</td>\n",
       "      <td>7.185</td>\n",
       "      <td>61.1</td>\n",
       "      <td>4.9671</td>\n",
       "      <td>2.0</td>\n",
       "      <td>242.0</td>\n",
       "      <td>17.8</td>\n",
       "      <td>392.83</td>\n",
       "      <td>4.03</td>\n",
       "    </tr>\n",
       "    <tr>\n",
       "      <th>3</th>\n",
       "      <td>0.03237</td>\n",
       "      <td>0.0</td>\n",
       "      <td>2.18</td>\n",
       "      <td>0.0</td>\n",
       "      <td>0.458</td>\n",
       "      <td>6.998</td>\n",
       "      <td>45.8</td>\n",
       "      <td>6.0622</td>\n",
       "      <td>3.0</td>\n",
       "      <td>222.0</td>\n",
       "      <td>18.7</td>\n",
       "      <td>394.63</td>\n",
       "      <td>2.94</td>\n",
       "    </tr>\n",
       "    <tr>\n",
       "      <th>4</th>\n",
       "      <td>0.06905</td>\n",
       "      <td>0.0</td>\n",
       "      <td>2.18</td>\n",
       "      <td>0.0</td>\n",
       "      <td>0.458</td>\n",
       "      <td>7.147</td>\n",
       "      <td>54.2</td>\n",
       "      <td>6.0622</td>\n",
       "      <td>3.0</td>\n",
       "      <td>222.0</td>\n",
       "      <td>18.7</td>\n",
       "      <td>396.90</td>\n",
       "      <td>5.33</td>\n",
       "    </tr>\n",
       "  </tbody>\n",
       "</table>\n",
       "</div>"
      ],
      "text/plain": [
       "      CRIM    ZN  INDUS  CHAS    NOX     RM   AGE     DIS  RAD    TAX  \\\n",
       "0  0.00632  18.0   2.31   0.0  0.538  6.575  65.2  4.0900  1.0  296.0   \n",
       "1  0.02731   0.0   7.07   0.0  0.469  6.421  78.9  4.9671  2.0  242.0   \n",
       "2  0.02729   0.0   7.07   0.0  0.469  7.185  61.1  4.9671  2.0  242.0   \n",
       "3  0.03237   0.0   2.18   0.0  0.458  6.998  45.8  6.0622  3.0  222.0   \n",
       "4  0.06905   0.0   2.18   0.0  0.458  7.147  54.2  6.0622  3.0  222.0   \n",
       "\n",
       "   PTRATIO       B  LSTAT  \n",
       "0     15.3  396.90   4.98  \n",
       "1     17.8  396.90   9.14  \n",
       "2     17.8  392.83   4.03  \n",
       "3     18.7  394.63   2.94  \n",
       "4     18.7  396.90   5.33  "
      ]
     },
     "execution_count": 4,
     "metadata": {},
     "output_type": "execute_result"
    }
   ],
   "source": [
    "df = pd.DataFrame(X,columns = boston.feature_names)\n",
    "df.head()"
   ]
  },
  {
   "cell_type": "markdown",
   "id": "1fd68f26-6a50-43a9-8e12-dfec2c7e761a",
   "metadata": {},
   "source": [
    "##### What the features mean"
   ]
  },
  {
   "cell_type": "code",
   "execution_count": 5,
   "id": "cb3b67a2-9dcc-4cb5-bac0-41f86ba83c47",
   "metadata": {},
   "outputs": [
    {
     "name": "stdout",
     "output_type": "stream",
     "text": [
      ".. _boston_dataset:\n",
      "\n",
      "Boston house prices dataset\n",
      "---------------------------\n",
      "\n",
      "**Data Set Characteristics:**  \n",
      "\n",
      "    :Number of Instances: 506 \n",
      "\n",
      "    :Number of Attributes: 13 numeric/categorical predictive. Median Value (attribute 14) is usually the target.\n",
      "\n",
      "    :Attribute Information (in order):\n",
      "        - CRIM     per capita crime rate by town\n",
      "        - ZN       proportion of residential land zoned for lots over 25,000 sq.ft.\n",
      "        - INDUS    proportion of non-retail business acres per town\n",
      "        - CHAS     Charles River dummy variable (= 1 if tract bounds river; 0 otherwise)\n",
      "        - NOX      nitric oxides concentration (parts per 10 million)\n",
      "        - RM       average number of rooms per dwelling\n",
      "        - AGE      proportion of owner-occupied units built prior to 1940\n",
      "        - DIS      weighted distances to five Boston employment centres\n",
      "        - RAD      index of accessibility to radial highways\n",
      "        - TAX      full-value property-tax rate per $10,000\n",
      "        - PTRATIO  pupil-teacher ratio by town\n",
      "        - B        1000(Bk - 0.63)^2 where Bk is the proportion of black people by town\n",
      "        - LSTAT    % lower status of the population\n",
      "        - MEDV     Median value of owner-occupied homes in $1000's\n",
      "\n",
      "    :Missing Attribute Values: None\n",
      "\n",
      "    :Creator: Harrison, D. and Rubinfeld, D.L.\n",
      "\n",
      "This is a copy of UCI ML housing dataset.\n",
      "https://archive.ics.uci.edu/ml/machine-learning-databases/housing/\n",
      "\n",
      "\n",
      "This dataset was taken from the StatLib library which is maintained at Carnegie Mellon University.\n",
      "\n",
      "The Boston house-price data of Harrison, D. and Rubinfeld, D.L. 'Hedonic\n",
      "prices and the demand for clean air', J. Environ. Economics & Management,\n",
      "vol.5, 81-102, 1978.   Used in Belsley, Kuh & Welsch, 'Regression diagnostics\n",
      "...', Wiley, 1980.   N.B. Various transformations are used in the table on\n",
      "pages 244-261 of the latter.\n",
      "\n",
      "The Boston house-price data has been used in many machine learning papers that address regression\n",
      "problems.   \n",
      "     \n",
      ".. topic:: References\n",
      "\n",
      "   - Belsley, Kuh & Welsch, 'Regression diagnostics: Identifying Influential Data and Sources of Collinearity', Wiley, 1980. 244-261.\n",
      "   - Quinlan,R. (1993). Combining Instance-Based and Model-Based Learning. In Proceedings on the Tenth International Conference of Machine Learning, 236-243, University of Massachusetts, Amherst. Morgan Kaufmann.\n",
      "\n"
     ]
    }
   ],
   "source": [
    "print(boston.DESCR)"
   ]
  },
  {
   "cell_type": "markdown",
   "id": "6570eb28-6b6e-40a0-86b3-506678f744ce",
   "metadata": {
    "tags": []
   },
   "source": [
    "## Lab Activity One: Linear Regression on One Variable"
   ]
  },
  {
   "cell_type": "markdown",
   "id": "5fc762cf-ca1f-46e3-a35d-57fb10a1e9cb",
   "metadata": {},
   "source": [
    "The linear regression model is best used when there is a **linear** relationship between your features (X) and the your target (Y). The code cell below prepare the data for you for lab activity one."
   ]
  },
  {
   "cell_type": "code",
   "execution_count": 6,
   "id": "677059f1-daa0-4ddf-aa07-16fe8e2df8ae",
   "metadata": {},
   "outputs": [
    {
     "name": "stdout",
     "output_type": "stream",
     "text": [
      "(506, 1)\n",
      "(506,)\n"
     ]
    }
   ],
   "source": [
    "from sklearn.linear_model import LinearRegression\n",
    "\n",
    "# We will only apply linear regression on one of the features. \n",
    "#Here we are selecting the 'RM' column (Average number of rooms) from our dataset\n",
    "X = boston.data[:,5]\n",
    "\n",
    "# Reshaping the array to be in the proper format. The X array always has to be 2-dimensional as an input into the model along with a one dimensional target(y) array\n",
    "X = X.reshape(-1,1)\n",
    "\n",
    "print(X.shape)\n",
    "print(y.shape)"
   ]
  },
  {
   "cell_type": "markdown",
   "id": "c04f440a-93b0-47a5-9386-0a1ff761eee8",
   "metadata": {},
   "source": [
    "##### [A] Plot a scatter plot of the Number of Rooms vs the Price"
   ]
  },
  {
   "cell_type": "code",
   "execution_count": 7,
   "id": "dd6df523-a4f9-4f13-a0aa-0065fd368c27",
   "metadata": {},
   "outputs": [
    {
     "data": {
      "image/png": "[encoded data removed]",
      "text/plain": [
       "<Figure size 432x288 with 1 Axes>"
      ]
     },
     "metadata": {
      "needs_background": "light"
     },
     "output_type": "display_data"
    }
   ],
   "source": [
    "plt.scatter(X, y,alpha=0.5)\n",
    "plt.show()"
   ]
  },
  {
   "cell_type": "markdown",
   "id": "034d8f94-2c7f-476f-b1d8-22a388bc8a25",
   "metadata": {},
   "source": [
    "##### [A] Describe the relationship "
   ]
  },
  {
   "cell_type": "markdown",
   "id": "b74aee9c-1653-4568-b2db-98127d5ab4b4",
   "metadata": {},
   "source": [
    "There is a visible linear relationship according to the scatter plot"
   ]
  },
  {
   "cell_type": "markdown",
   "id": "a6b55bb3-247b-43d7-b41a-3341886b3a37",
   "metadata": {},
   "source": [
    "##### [A] Split your data, Instantiate and Fit a lenear regression model"
   ]
  },
  {
   "cell_type": "code",
   "execution_count": 8,
   "id": "23c622e9-4639-4f49-be3d-f260b9a6840a",
   "metadata": {},
   "outputs": [
    {
     "data": {
      "text/plain": [
       "LinearRegression()"
      ]
     },
     "execution_count": 8,
     "metadata": {},
     "output_type": "execute_result"
    }
   ],
   "source": [
    "X_train, X_test, y_train, y_test = train_test_split(X,y,test_size=0.2)\n",
    "\n",
    "\n",
    "linear_regression_model = LinearRegression()\n",
    "linear_regression_model.fit(X_train, y_train)"
   ]
  },
  {
   "cell_type": "markdown",
   "id": "5e38d130-1f2b-4e07-b63e-df36f2e915a3",
   "metadata": {},
   "source": [
    "##### [A] Get the intercept and the coefficient of our linear function. Recall y = mx + c, where m is the coefficient and c is the intercept."
   ]
  },
  {
   "cell_type": "code",
   "execution_count": 9,
   "id": "59115bda-f23c-4449-a654-1ae62d06e1f9",
   "metadata": {},
   "outputs": [
    {
     "name": "stdout",
     "output_type": "stream",
     "text": [
      "Intercept: -31.91448594232501\n",
      "Coefficients:8.676530827414771\n"
     ]
    }
   ],
   "source": [
    "#Intercept (c)\n",
    "intercept = linear_regression_model.intercept_\n",
    "\n",
    "#Coefficient (m)\n",
    "coefficient = linear_regression_model.coef_[0]\n",
    "\n",
    "print(f'Intercept: {intercept}')\n",
    "print(f'Coefficients:{coefficient}')"
   ]
  },
  {
   "cell_type": "markdown",
   "id": "0b371037-840d-4d18-8610-f5bb3ab7bb09",
   "metadata": {},
   "source": [
    "##### [A] Plot another scatter plot of your X and y data and this time add a line of best fit (y=mx+c function)"
   ]
  },
  {
   "cell_type": "code",
   "execution_count": 10,
   "id": "e65d39f8-7a16-425e-875d-29b8559da168",
   "metadata": {},
   "outputs": [
    {
     "data": {
      "image/png": "[encoded data removed]",
      "text/plain": [
       "<Figure size 432x288 with 1 Axes>"
      ]
     },
     "metadata": {
      "needs_background": "light"
     },
     "output_type": "display_data"
    }
   ],
   "source": [
    "y_function = coefficient*X_train + intercept\n",
    "\n",
    "plt.scatter(X_train, y_train,  alpha = 0.5)\n",
    "plt.plot(X_train, y_function, color='green')\n",
    "plt.show()"
   ]
  },
  {
   "cell_type": "markdown",
   "id": "b044c388-8605-490c-a60b-8d4e87fb1bd9",
   "metadata": {},
   "source": [
    "##### [A] Predict on your X_test data and evaluate your model using the R2 statistic"
   ]
  },
  {
   "cell_type": "code",
   "execution_count": 11,
   "id": "a220eb4d-f5ba-4bda-91e0-17cead292af9",
   "metadata": {},
   "outputs": [
    {
     "name": "stdout",
     "output_type": "stream",
     "text": [
      "R2 score 0.5544197396241759\n",
      "RMSE: 6.303362\n"
     ]
    }
   ],
   "source": [
    "y_pred = linear_regression_model.predict(X_test)\n",
    "\n",
    "rmse = np.sqrt(mean_squared_error(y_test, y_pred))\n",
    "print('R2 score', r2_score(y_test,y_pred))\n",
    "print(\"RMSE: %f\" % (rmse))"
   ]
  },
  {
   "cell_type": "markdown",
   "id": "207bff6e-38fa-4196-8c6d-d25d35149e4a",
   "metadata": {},
   "source": [
    "## Lab Activity Two: Multilinear Regression"
   ]
  },
  {
   "cell_type": "markdown",
   "id": "b552e537-77be-4cb4-a0ac-31518a7a21dd",
   "metadata": {},
   "source": [
    "Fitting a linear model on data with more than one feature is called multilinear regression. For this activity you will be fitting a multilinear regression on all of the features of the boston dataset.\n",
    "The code cell below prepares the data for you"
   ]
  },
  {
   "cell_type": "code",
   "execution_count": 12,
   "id": "effbb876-f049-4ecd-a042-429629bef1b6",
   "metadata": {},
   "outputs": [
    {
     "data": {
      "text/html": [
       "<div>\n",
       "<style scoped>\n",
       "    .dataframe tbody tr th:only-of-type {\n",
       "        vertical-align: middle;\n",
       "    }\n",
       "\n",
       "    .dataframe tbody tr th {\n",
       "        vertical-align: top;\n",
       "    }\n",
       "\n",
       "    .dataframe thead th {\n",
       "        text-align: right;\n",
       "    }\n",
       "</style>\n",
       "<table border=\"1\" class=\"dataframe\">\n",
       "  <thead>\n",
       "    <tr style=\"text-align: right;\">\n",
       "      <th></th>\n",
       "      <th>CRIM</th>\n",
       "      <th>ZN</th>\n",
       "      <th>INDUS</th>\n",
       "      <th>CHAS</th>\n",
       "      <th>NOX</th>\n",
       "      <th>RM</th>\n",
       "      <th>AGE</th>\n",
       "      <th>DIS</th>\n",
       "      <th>RAD</th>\n",
       "      <th>TAX</th>\n",
       "      <th>PTRATIO</th>\n",
       "      <th>B</th>\n",
       "      <th>LSTAT</th>\n",
       "      <th>Price</th>\n",
       "    </tr>\n",
       "  </thead>\n",
       "  <tbody>\n",
       "    <tr>\n",
       "      <th>0</th>\n",
       "      <td>0.00632</td>\n",
       "      <td>18.0</td>\n",
       "      <td>2.31</td>\n",
       "      <td>0.0</td>\n",
       "      <td>0.538</td>\n",
       "      <td>6.575</td>\n",
       "      <td>65.2</td>\n",
       "      <td>4.0900</td>\n",
       "      <td>1.0</td>\n",
       "      <td>296.0</td>\n",
       "      <td>15.3</td>\n",
       "      <td>396.90</td>\n",
       "      <td>4.98</td>\n",
       "      <td>24.0</td>\n",
       "    </tr>\n",
       "    <tr>\n",
       "      <th>1</th>\n",
       "      <td>0.02731</td>\n",
       "      <td>0.0</td>\n",
       "      <td>7.07</td>\n",
       "      <td>0.0</td>\n",
       "      <td>0.469</td>\n",
       "      <td>6.421</td>\n",
       "      <td>78.9</td>\n",
       "      <td>4.9671</td>\n",
       "      <td>2.0</td>\n",
       "      <td>242.0</td>\n",
       "      <td>17.8</td>\n",
       "      <td>396.90</td>\n",
       "      <td>9.14</td>\n",
       "      <td>21.6</td>\n",
       "    </tr>\n",
       "    <tr>\n",
       "      <th>2</th>\n",
       "      <td>0.02729</td>\n",
       "      <td>0.0</td>\n",
       "      <td>7.07</td>\n",
       "      <td>0.0</td>\n",
       "      <td>0.469</td>\n",
       "      <td>7.185</td>\n",
       "      <td>61.1</td>\n",
       "      <td>4.9671</td>\n",
       "      <td>2.0</td>\n",
       "      <td>242.0</td>\n",
       "      <td>17.8</td>\n",
       "      <td>392.83</td>\n",
       "      <td>4.03</td>\n",
       "      <td>34.7</td>\n",
       "    </tr>\n",
       "  </tbody>\n",
       "</table>\n",
       "</div>"
      ],
      "text/plain": [
       "      CRIM    ZN  INDUS  CHAS    NOX     RM   AGE     DIS  RAD    TAX  \\\n",
       "0  0.00632  18.0   2.31   0.0  0.538  6.575  65.2  4.0900  1.0  296.0   \n",
       "1  0.02731   0.0   7.07   0.0  0.469  6.421  78.9  4.9671  2.0  242.0   \n",
       "2  0.02729   0.0   7.07   0.0  0.469  7.185  61.1  4.9671  2.0  242.0   \n",
       "\n",
       "   PTRATIO       B  LSTAT  Price  \n",
       "0     15.3  396.90   4.98   24.0  \n",
       "1     17.8  396.90   9.14   21.6  \n",
       "2     17.8  392.83   4.03   34.7  "
      ]
     },
     "execution_count": 12,
     "metadata": {},
     "output_type": "execute_result"
    }
   ],
   "source": [
    "#Target\n",
    "y_2 = boston.target\n",
    "\n",
    "#Features\n",
    "X_2 = boston.data\n",
    "\n",
    "#Creating The full dataframe\n",
    "df = pd.DataFrame(X_2,columns = boston.feature_names)\n",
    "df['Price'] = y_2\n",
    "\n",
    "df.head(3)"
   ]
  },
  {
   "cell_type": "markdown",
   "id": "631d81fd-21f3-4b1e-a194-d88846d6cd81",
   "metadata": {},
   "source": [
    "##### [A] Split, instantiate and fit model using all of the features. Remember to use X_2 and y_2 for the train,test split and use different variable names than the ones used in lab activity one."
   ]
  },
  {
   "cell_type": "code",
   "execution_count": 13,
   "id": "a061e408-0b87-477a-a6b3-9c86fe1f8767",
   "metadata": {},
   "outputs": [
    {
     "data": {
      "text/plain": [
       "LinearRegression()"
      ]
     },
     "execution_count": 13,
     "metadata": {},
     "output_type": "execute_result"
    }
   ],
   "source": [
    "X_train_2, X_test_2, y_train_2, y_test_2 = train_test_split(X_2,y_2,test_size=0.2)\n",
    "\n",
    "linear_regression_model_2 = LinearRegression()\n",
    "linear_regression_model_2.fit(X_train_2, y_train_2)"
   ]
  },
  {
   "cell_type": "markdown",
   "id": "180ba964-5bce-4c3d-be2b-eecc2677b421",
   "metadata": {},
   "source": [
    "##### [A] Predict on your test set you split in this activity and evaluate the model."
   ]
  },
  {
   "cell_type": "code",
   "execution_count": 14,
   "id": "f7a13a6e-9f93-4975-9606-3380013d3f8f",
   "metadata": {},
   "outputs": [
    {
     "name": "stdout",
     "output_type": "stream",
     "text": [
      "R2 score 0.7579804800943105\n",
      "RMSE: 4.419587\n"
     ]
    }
   ],
   "source": [
    "y_pred_2 = linear_regression_model_2.predict(X_test_2)\n",
    "\n",
    "\n",
    "rmse = np.sqrt(mean_squared_error(y_test_2, y_pred_2))\n",
    "print('R2 score', r2_score(y_test_2,y_pred_2))\n",
    "print(\"RMSE: %f\" % (rmse))"
   ]
  },
  {
   "cell_type": "markdown",
   "id": "9e813709-b315-46af-982b-ce08cab6cd98",
   "metadata": {
    "tags": []
   },
   "source": [
    "## Lab Activity Three: Regression on Non-Linear Data"
   ]
  },
  {
   "cell_type": "markdown",
   "id": "284c5afa-bef2-4c1d-88f9-21d29f3071fa",
   "metadata": {},
   "source": [
    "When performing a regression analysis, you will find the linear regression algorithm is the simplest approach. However, if the data is non-linear it  may call for a using a different algorithm. A decision tree regressor does a good for regression problems that contain non-linear data.\n",
    "- Non-linear Data: there is no linear relationship between the features and the dataset and no possibility of a proper 'line-of-best-fit'"
   ]
  },
  {
   "cell_type": "markdown",
   "id": "1b7df1ab-c869-48e4-8ef4-493431924647",
   "metadata": {},
   "source": [
    "##### [A] Plot a scatter plot of the fllowing features listed below vs the target(y). You can use subplots or 3 different cells for each graph.\n",
    "\n",
    "- **ZN** : proportion of residential land zoned for lots over 25,000 sq.ft.\n",
    "- **INDUS** : proportion of non-retail business acres per town\n",
    "- **RAD** : index of accessibility to radial highways"
   ]
  },
  {
   "cell_type": "code",
   "execution_count": 15,
   "id": "fc5fb2a6-2e9e-4fe4-8166-3aca4436ae2c",
   "metadata": {},
   "outputs": [
    {
     "data": {
      "image/png": "[encoded data removed]",
      "text/plain": [
       "<Figure size 432x288 with 1 Axes>"
      ]
     },
     "metadata": {
      "needs_background": "light"
     },
     "output_type": "display_data"
    }
   ],
   "source": [
    "plt.scatter(X_2[:,1], y,alpha=0.5)\n",
    "plt.show()"
   ]
  },
  {
   "cell_type": "code",
   "execution_count": 16,
   "id": "3409d834-872a-4007-ba1d-2e205c1da989",
   "metadata": {},
   "outputs": [
    {
     "data": {
      "image/png": "[encoded data removed]",
      "text/plain": [
       "<Figure size 432x288 with 1 Axes>"
      ]
     },
     "metadata": {
      "needs_background": "light"
     },
     "output_type": "display_data"
    }
   ],
   "source": [
    "plt.scatter(X_2[:,2], y,alpha=0.5)\n",
    "plt.show()"
   ]
  },
  {
   "cell_type": "code",
   "execution_count": 17,
   "id": "c9f3d33f-4e84-44d1-9bae-60a1dc5652c9",
   "metadata": {},
   "outputs": [
    {
     "data": {
      "image/png": "[encoded data removed]",
      "text/plain": [
       "<Figure size 432x288 with 1 Axes>"
      ]
     },
     "metadata": {
      "needs_background": "light"
     },
     "output_type": "display_data"
    }
   ],
   "source": [
    "plt.scatter(X_2[:,8], y,alpha=0.5)\n",
    "plt.show()"
   ]
  },
  {
   "cell_type": "markdown",
   "id": "364f2d50-9b7a-49f6-8197-e2795880b255",
   "metadata": {},
   "source": [
    "You will notice that these features don't have a linear relationship with the price (target). There is non-linearity in the data. This is where a different reggression model will give us better results."
   ]
  },
  {
   "cell_type": "markdown",
   "id": "4aa53ac4-9bd6-473f-af93-7a08063e06d9",
   "metadata": {},
   "source": [
    "##### [A] You will now be building a Decision Tree Regressor model. Instantiate and fit the DT regressor using the same training data from lab activity two."
   ]
  },
  {
   "cell_type": "code",
   "execution_count": 18,
   "id": "6288d254-b46b-4790-a98a-8d46a26271da",
   "metadata": {},
   "outputs": [
    {
     "data": {
      "text/plain": [
       "DecisionTreeRegressor()"
      ]
     },
     "execution_count": 18,
     "metadata": {},
     "output_type": "execute_result"
    }
   ],
   "source": [
    "from sklearn.tree import DecisionTreeRegressor\n",
    "\n",
    "dt_regressor = DecisionTreeRegressor()\n",
    "dt_regressor.fit(X_train_2, y_train_2)"
   ]
  },
  {
   "cell_type": "markdown",
   "id": "0612e019-cad6-4fac-8a8e-cffb563c17c4",
   "metadata": {},
   "source": [
    "##### [A] Predict on your test data (same test data from activity two) and evaluate your model. Remember to use different variable names where appropriate. "
   ]
  },
  {
   "cell_type": "code",
   "execution_count": 19,
   "id": "8b94d5dd-f34a-4586-826b-3cffec7351fb",
   "metadata": {},
   "outputs": [
    {
     "name": "stdout",
     "output_type": "stream",
     "text": [
      "R2 score 0.78365062222286\n",
      "RMSE: 4.178634\n"
     ]
    }
   ],
   "source": [
    "y_pred_3 = dt_regressor.predict(X_test_2)\n",
    "\n",
    "rmse = np.sqrt(mean_squared_error(y_test_2, y_pred_3))\n",
    "print('R2 score', r2_score(y_test_2,y_pred_3))\n",
    "print(\"RMSE: %f\" % (rmse))"
   ]
  },
  {
   "cell_type": "code",
   "execution_count": null,
   "id": "ae29cda8-aee8-4c8b-a6c1-88803636176a",
   "metadata": {},
   "outputs": [],
   "source": []
  },
  {
   "cell_type": "code",
   "execution_count": null,
   "id": "60c50de3-68dd-43a3-9b8c-08a6f3ce6028",
   "metadata": {},
   "outputs": [],
   "source": []
  }
 ],
 "metadata": {
  "kernelspec": {
   "display_name": "Python 3 (ipykernel)",
   "language": "python",
   "name": "python3"
  },
  "language_info": {
   "codemirror_mode": {
    "name": "ipython",
    "version": 3
   },
   "file_extension": ".py",
   "mimetype": "text/x-python",
   "name": "python",
   "nbconvert_exporter": "python",
   "pygments_lexer": "ipython3",
   "version": "3.9.7"
  }
 },
 "nbformat": 4,
 "nbformat_minor": 5
}
