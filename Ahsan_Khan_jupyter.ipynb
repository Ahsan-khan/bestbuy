{
 "cells": [
  {
   "cell_type": "markdown",
   "id": "13069dc7-cc12-4990-b5b7-9c81ac4167ac",
   "metadata": {},
   "source": [
    "# Ahsan's submission for the Data Scientist Intern Role at Best Buy"
   ]
  },
  {
   "cell_type": "markdown",
   "id": "9548d1a6-7bc6-4645-aa60-cfea36cafed7",
   "metadata": {},
   "source": [
    "I applied multiple modeling techniques to the prepared dataset (Decision tree, randomforest and XGBoost). It was found the XGBoost model gave us the best results. I then further improved it by tuning its hyperparameters."
   ]
  },
  {
   "cell_type": "code",
   "execution_count": 1,
   "id": "d6bed91a-3353-478f-b5e7-5e3ef7082458",
   "metadata": {},
   "outputs": [],
   "source": [
    "import pandas as pd\n",
    "import numpy as np\n",
    "import matplotlib.pyplot as plt\n",
    "import datetime\n",
    "from sklearn.model_selection import train_test_split\n",
    "from sklearn.metrics import accuracy_score\n",
    "import seaborn as sns\n",
    "from sklearn.metrics import mean_squared_error\n",
    "from geopy.distance import geodesic"
   ]
  },
  {
   "cell_type": "code",
   "execution_count": 2,
   "id": "c0d9a26a-884b-4582-baec-413f4ab3057d",
   "metadata": {},
   "outputs": [
    {
     "name": "stdout",
     "output_type": "stream",
     "text": [
      "(9222, 11)\n"
     ]
    }
   ],
   "source": [
    "df = pd.read_csv(\"data_train.csv\")\n",
    "print(df.shape)"
   ]
  },
  {
   "cell_type": "code",
   "execution_count": 3,
   "id": "404199d1-8183-4b49-807a-67f5c2237a59",
   "metadata": {},
   "outputs": [
    {
     "data": {
      "text/html": [
       "<div>\n",
       "<style scoped>\n",
       "    .dataframe tbody tr th:only-of-type {\n",
       "        vertical-align: middle;\n",
       "    }\n",
       "\n",
       "    .dataframe tbody tr th {\n",
       "        vertical-align: top;\n",
       "    }\n",
       "\n",
       "    .dataframe thead th {\n",
       "        text-align: right;\n",
       "    }\n",
       "</style>\n",
       "<table border=\"1\" class=\"dataframe\">\n",
       "  <thead>\n",
       "    <tr style=\"text-align: right;\">\n",
       "      <th></th>\n",
       "      <th>Order-Date</th>\n",
       "      <th>Delivery-Date</th>\n",
       "      <th>Promised-Date</th>\n",
       "      <th>Courier</th>\n",
       "      <th>Size of the box height</th>\n",
       "      <th>Size of the box width</th>\n",
       "      <th>Size of the box length</th>\n",
       "      <th>Size of the box weight</th>\n",
       "      <th>Weather</th>\n",
       "      <th>Store address</th>\n",
       "      <th>Customer address</th>\n",
       "    </tr>\n",
       "  </thead>\n",
       "  <tbody>\n",
       "    <tr>\n",
       "      <th>0</th>\n",
       "      <td>2021-01-24</td>\n",
       "      <td>2021-01-27</td>\n",
       "      <td>2021-01-26</td>\n",
       "      <td>PS</td>\n",
       "      <td>29.632656</td>\n",
       "      <td>34.722553</td>\n",
       "      <td>17.523058</td>\n",
       "      <td>3.807421</td>\n",
       "      <td>Good</td>\n",
       "      <td>'-123.048/49.1534'</td>\n",
       "      <td>'-126.07325247944962/51.29548801984406'</td>\n",
       "    </tr>\n",
       "    <tr>\n",
       "      <th>1</th>\n",
       "      <td>2021-04-09</td>\n",
       "      <td>2021-04-13</td>\n",
       "      <td>2021-04-13</td>\n",
       "      <td>FD</td>\n",
       "      <td>29.632656</td>\n",
       "      <td>34.722553</td>\n",
       "      <td>17.523058</td>\n",
       "      <td>1.902088</td>\n",
       "      <td>Good</td>\n",
       "      <td>'-123.048/49.1534'</td>\n",
       "      <td>'-126.07255765553835/51.29486187466757'</td>\n",
       "    </tr>\n",
       "    <tr>\n",
       "      <th>2</th>\n",
       "      <td>2021-09-27</td>\n",
       "      <td>2021-10-02</td>\n",
       "      <td>2021-10-02</td>\n",
       "      <td>PS</td>\n",
       "      <td>29.632656</td>\n",
       "      <td>34.722553</td>\n",
       "      <td>17.523058</td>\n",
       "      <td>2.152103</td>\n",
       "      <td>Good</td>\n",
       "      <td>'-123.048/49.1534'</td>\n",
       "      <td>'-126.07443435490822/51.29566033167437'</td>\n",
       "    </tr>\n",
       "  </tbody>\n",
       "</table>\n",
       "</div>"
      ],
      "text/plain": [
       "   Order-Date Delivery-Date Promised-Date Courier  Size of the box height  \\\n",
       "0  2021-01-24    2021-01-27    2021-01-26      PS               29.632656   \n",
       "1  2021-04-09    2021-04-13    2021-04-13      FD               29.632656   \n",
       "2  2021-09-27    2021-10-02    2021-10-02      PS               29.632656   \n",
       "\n",
       "   Size of the box width  Size of the box length  Size of the box weight  \\\n",
       "0              34.722553               17.523058                3.807421   \n",
       "1              34.722553               17.523058                1.902088   \n",
       "2              34.722553               17.523058                2.152103   \n",
       "\n",
       "  Weather       Store address                         Customer address  \n",
       "0    Good  '-123.048/49.1534'  '-126.07325247944962/51.29548801984406'  \n",
       "1    Good  '-123.048/49.1534'  '-126.07255765553835/51.29486187466757'  \n",
       "2    Good  '-123.048/49.1534'  '-126.07443435490822/51.29566033167437'  "
      ]
     },
     "execution_count": 3,
     "metadata": {},
     "output_type": "execute_result"
    }
   ],
   "source": [
    "df.head(3)"
   ]
  },
  {
   "cell_type": "markdown",
   "id": "9116b3be-1bb0-41c1-a342-f41f2d78e7d7",
   "metadata": {},
   "source": [
    "## Data Processing"
   ]
  },
  {
   "cell_type": "markdown",
   "id": "93396eb5-b19e-4b0e-9f88-5c08422e619f",
   "metadata": {
    "tags": []
   },
   "source": [
    "##### Feature Engineering & Selection\n",
    "- 'Distance' column generated by calculating the geodisc distance(kilometers) between the store and customer using their cordinates \n",
    "- 'Days_taken' column generated by (delivery date - order date)\n",
    "- Courier encoded 1 or 0, 1 for PS and 0 for FD\n",
    "- Weather encoded 1 or 0, 1 for good and 0 for bad\n",
    "- Promised-Date column not needed for any predictions, dropped\n",
    "    \n",
    "    "
   ]
  },
  {
   "cell_type": "code",
   "execution_count": 4,
   "id": "5ac3c6ef-7bab-4556-bcab-8d0ed11b9377",
   "metadata": {},
   "outputs": [
    {
     "data": {
      "text/plain": [
       "Order-Date                 object\n",
       "Delivery-Date              object\n",
       "Promised-Date              object\n",
       "Courier                    object\n",
       "Size of the box height    float64\n",
       "Size of the box width     float64\n",
       "Size of the box length    float64\n",
       "Size of the box weight    float64\n",
       "Weather                    object\n",
       "Store address              object\n",
       "Customer address           object\n",
       "dtype: object"
      ]
     },
     "execution_count": 4,
     "metadata": {},
     "output_type": "execute_result"
    }
   ],
   "source": [
    "#Checking for columns to convert\n",
    "df.dtypes"
   ]
  },
  {
   "cell_type": "code",
   "execution_count": 5,
   "id": "7085cea4-1a55-4c12-900d-a9a21d39478c",
   "metadata": {},
   "outputs": [
    {
     "data": {
      "text/plain": [
       "Order-Date                0\n",
       "Delivery-Date             0\n",
       "Promised-Date             0\n",
       "Courier                   0\n",
       "Size of the box height    0\n",
       "Size of the box width     0\n",
       "Size of the box length    0\n",
       "Size of the box weight    0\n",
       "Weather                   0\n",
       "Store address             0\n",
       "Customer address          0\n",
       "dtype: int64"
      ]
     },
     "execution_count": 5,
     "metadata": {},
     "output_type": "execute_result"
    }
   ],
   "source": [
    "#Checking for null/missing values\n",
    "df.isnull().sum()"
   ]
  },
  {
   "cell_type": "markdown",
   "id": "5f9ac7c5-267f-465f-84bd-c976a97121ae",
   "metadata": {},
   "source": [
    "##### Generating 'Distance' column"
   ]
  },
  {
   "cell_type": "code",
   "execution_count": 6,
   "id": "114ae0d5-41bb-47f4-8954-cec6c14b80af",
   "metadata": {},
   "outputs": [
    {
     "data": {
      "text/html": [
       "<div>\n",
       "<style scoped>\n",
       "    .dataframe tbody tr th:only-of-type {\n",
       "        vertical-align: middle;\n",
       "    }\n",
       "\n",
       "    .dataframe tbody tr th {\n",
       "        vertical-align: top;\n",
       "    }\n",
       "\n",
       "    .dataframe thead th {\n",
       "        text-align: right;\n",
       "    }\n",
       "</style>\n",
       "<table border=\"1\" class=\"dataframe\">\n",
       "  <thead>\n",
       "    <tr style=\"text-align: right;\">\n",
       "      <th></th>\n",
       "      <th>Order-Date</th>\n",
       "      <th>Delivery-Date</th>\n",
       "      <th>Promised-Date</th>\n",
       "      <th>Courier</th>\n",
       "      <th>Size of the box height</th>\n",
       "      <th>Size of the box width</th>\n",
       "      <th>Size of the box length</th>\n",
       "      <th>Size of the box weight</th>\n",
       "      <th>Weather</th>\n",
       "      <th>Store address</th>\n",
       "      <th>Customer address</th>\n",
       "      <th>store_longitude</th>\n",
       "      <th>store_latitude</th>\n",
       "      <th>customer_longitude</th>\n",
       "      <th>customer_latitude</th>\n",
       "    </tr>\n",
       "  </thead>\n",
       "  <tbody>\n",
       "    <tr>\n",
       "      <th>0</th>\n",
       "      <td>2021-01-24</td>\n",
       "      <td>2021-01-27</td>\n",
       "      <td>2021-01-26</td>\n",
       "      <td>PS</td>\n",
       "      <td>29.632656</td>\n",
       "      <td>34.722553</td>\n",
       "      <td>17.523058</td>\n",
       "      <td>3.807421</td>\n",
       "      <td>Good</td>\n",
       "      <td>-123.048/49.1534</td>\n",
       "      <td>-126.07325247944962/51.29548801984406</td>\n",
       "      <td>-123.048</td>\n",
       "      <td>49.1534</td>\n",
       "      <td>-126.073252</td>\n",
       "      <td>51.295488</td>\n",
       "    </tr>\n",
       "    <tr>\n",
       "      <th>1</th>\n",
       "      <td>2021-04-09</td>\n",
       "      <td>2021-04-13</td>\n",
       "      <td>2021-04-13</td>\n",
       "      <td>FD</td>\n",
       "      <td>29.632656</td>\n",
       "      <td>34.722553</td>\n",
       "      <td>17.523058</td>\n",
       "      <td>1.902088</td>\n",
       "      <td>Good</td>\n",
       "      <td>-123.048/49.1534</td>\n",
       "      <td>-126.07255765553835/51.29486187466757</td>\n",
       "      <td>-123.048</td>\n",
       "      <td>49.1534</td>\n",
       "      <td>-126.072558</td>\n",
       "      <td>51.294862</td>\n",
       "    </tr>\n",
       "    <tr>\n",
       "      <th>2</th>\n",
       "      <td>2021-09-27</td>\n",
       "      <td>2021-10-02</td>\n",
       "      <td>2021-10-02</td>\n",
       "      <td>PS</td>\n",
       "      <td>29.632656</td>\n",
       "      <td>34.722553</td>\n",
       "      <td>17.523058</td>\n",
       "      <td>2.152103</td>\n",
       "      <td>Good</td>\n",
       "      <td>-123.048/49.1534</td>\n",
       "      <td>-126.07443435490822/51.29566033167437</td>\n",
       "      <td>-123.048</td>\n",
       "      <td>49.1534</td>\n",
       "      <td>-126.074434</td>\n",
       "      <td>51.295660</td>\n",
       "    </tr>\n",
       "  </tbody>\n",
       "</table>\n",
       "</div>"
      ],
      "text/plain": [
       "   Order-Date Delivery-Date Promised-Date Courier  Size of the box height  \\\n",
       "0  2021-01-24    2021-01-27    2021-01-26      PS               29.632656   \n",
       "1  2021-04-09    2021-04-13    2021-04-13      FD               29.632656   \n",
       "2  2021-09-27    2021-10-02    2021-10-02      PS               29.632656   \n",
       "\n",
       "   Size of the box width  Size of the box length  Size of the box weight  \\\n",
       "0              34.722553               17.523058                3.807421   \n",
       "1              34.722553               17.523058                1.902088   \n",
       "2              34.722553               17.523058                2.152103   \n",
       "\n",
       "  Weather     Store address                       Customer address  \\\n",
       "0    Good  -123.048/49.1534  -126.07325247944962/51.29548801984406   \n",
       "1    Good  -123.048/49.1534  -126.07255765553835/51.29486187466757   \n",
       "2    Good  -123.048/49.1534  -126.07443435490822/51.29566033167437   \n",
       "\n",
       "   store_longitude  store_latitude  customer_longitude  customer_latitude  \n",
       "0         -123.048         49.1534         -126.073252          51.295488  \n",
       "1         -123.048         49.1534         -126.072558          51.294862  \n",
       "2         -123.048         49.1534         -126.074434          51.295660  "
      ]
     },
     "execution_count": 6,
     "metadata": {},
     "output_type": "execute_result"
    }
   ],
   "source": [
    "# Firstly, this code cell will fix the formatting of our cordinate values in our dataframe for both customer and the store\n",
    "\n",
    "#Removing quatation marks\n",
    "df[\"Store address\"] = df[\"Store address\"].replace(\"'\", \"\", regex=True)\n",
    "df[\"Customer address\"] = df[\"Customer address\"].replace(\"'\", \"\", regex=True)\n",
    "\n",
    "#Converting to array for easier processing\n",
    "store_address_array = np.array(df['Store address'])\n",
    "customer_address_array = np.array(df['Customer address'])\n",
    "\n",
    "#Splitting each cordinate by '/' and converting to float and appending to a new list\n",
    "store_longitude = []\n",
    "store_latitude = []\n",
    "customer_longitude = []\n",
    "customer_latitude = []\n",
    "\n",
    "for x in store_address_array:\n",
    "    store_longitude.append(float(x.split(\"/\")[0]))\n",
    "    store_latitude.append(float(x.split(\"/\")[1]))\n",
    "    \n",
    "for x in customer_address_array:\n",
    "    customer_longitude.append(float(x.split(\"/\")[0]))\n",
    "    customer_latitude.append(float(x.split(\"/\")[1]))\n",
    "    \n",
    "#Adding our properly formatted longitude and latitude values to our dataframe\n",
    "#This step is redundant but I do it for visual purposes\n",
    "df['store_longitude'] = store_longitude\n",
    "df['store_latitude'] = store_latitude\n",
    "\n",
    "df['customer_longitude'] = customer_longitude\n",
    "df['customer_latitude'] = customer_latitude\n",
    "\n",
    "df.head(3)"
   ]
  },
  {
   "cell_type": "code",
   "execution_count": 7,
   "id": "f5f9f014-d280-4c94-b985-7d78986155ba",
   "metadata": {
    "tags": []
   },
   "outputs": [
    {
     "data": {
      "text/html": [
       "<div>\n",
       "<style scoped>\n",
       "    .dataframe tbody tr th:only-of-type {\n",
       "        vertical-align: middle;\n",
       "    }\n",
       "\n",
       "    .dataframe tbody tr th {\n",
       "        vertical-align: top;\n",
       "    }\n",
       "\n",
       "    .dataframe thead th {\n",
       "        text-align: right;\n",
       "    }\n",
       "</style>\n",
       "<table border=\"1\" class=\"dataframe\">\n",
       "  <thead>\n",
       "    <tr style=\"text-align: right;\">\n",
       "      <th></th>\n",
       "      <th>Order-Date</th>\n",
       "      <th>Delivery-Date</th>\n",
       "      <th>Promised-Date</th>\n",
       "      <th>Courier</th>\n",
       "      <th>Size of the box height</th>\n",
       "      <th>Size of the box width</th>\n",
       "      <th>Size of the box length</th>\n",
       "      <th>Size of the box weight</th>\n",
       "      <th>Weather</th>\n",
       "      <th>Store address</th>\n",
       "      <th>Customer address</th>\n",
       "      <th>store_longitude</th>\n",
       "      <th>store_latitude</th>\n",
       "      <th>customer_longitude</th>\n",
       "      <th>customer_latitude</th>\n",
       "      <th>Distance</th>\n",
       "    </tr>\n",
       "  </thead>\n",
       "  <tbody>\n",
       "    <tr>\n",
       "      <th>0</th>\n",
       "      <td>2021-01-24</td>\n",
       "      <td>2021-01-27</td>\n",
       "      <td>2021-01-26</td>\n",
       "      <td>PS</td>\n",
       "      <td>29.632656</td>\n",
       "      <td>34.722553</td>\n",
       "      <td>17.523058</td>\n",
       "      <td>3.807421</td>\n",
       "      <td>Good</td>\n",
       "      <td>-123.048/49.1534</td>\n",
       "      <td>-126.07325247944962/51.29548801984406</td>\n",
       "      <td>-123.048</td>\n",
       "      <td>49.1534</td>\n",
       "      <td>-126.073252</td>\n",
       "      <td>51.295488</td>\n",
       "      <td>321.473027</td>\n",
       "    </tr>\n",
       "    <tr>\n",
       "      <th>1</th>\n",
       "      <td>2021-04-09</td>\n",
       "      <td>2021-04-13</td>\n",
       "      <td>2021-04-13</td>\n",
       "      <td>FD</td>\n",
       "      <td>29.632656</td>\n",
       "      <td>34.722553</td>\n",
       "      <td>17.523058</td>\n",
       "      <td>1.902088</td>\n",
       "      <td>Good</td>\n",
       "      <td>-123.048/49.1534</td>\n",
       "      <td>-126.07255765553835/51.29486187466757</td>\n",
       "      <td>-123.048</td>\n",
       "      <td>49.1534</td>\n",
       "      <td>-126.072558</td>\n",
       "      <td>51.294862</td>\n",
       "      <td>321.389102</td>\n",
       "    </tr>\n",
       "    <tr>\n",
       "      <th>2</th>\n",
       "      <td>2021-09-27</td>\n",
       "      <td>2021-10-02</td>\n",
       "      <td>2021-10-02</td>\n",
       "      <td>PS</td>\n",
       "      <td>29.632656</td>\n",
       "      <td>34.722553</td>\n",
       "      <td>17.523058</td>\n",
       "      <td>2.152103</td>\n",
       "      <td>Good</td>\n",
       "      <td>-123.048/49.1534</td>\n",
       "      <td>-126.07443435490822/51.29566033167437</td>\n",
       "      <td>-123.048</td>\n",
       "      <td>49.1534</td>\n",
       "      <td>-126.074434</td>\n",
       "      <td>51.295660</td>\n",
       "      <td>321.543559</td>\n",
       "    </tr>\n",
       "  </tbody>\n",
       "</table>\n",
       "</div>"
      ],
      "text/plain": [
       "   Order-Date Delivery-Date Promised-Date Courier  Size of the box height  \\\n",
       "0  2021-01-24    2021-01-27    2021-01-26      PS               29.632656   \n",
       "1  2021-04-09    2021-04-13    2021-04-13      FD               29.632656   \n",
       "2  2021-09-27    2021-10-02    2021-10-02      PS               29.632656   \n",
       "\n",
       "   Size of the box width  Size of the box length  Size of the box weight  \\\n",
       "0              34.722553               17.523058                3.807421   \n",
       "1              34.722553               17.523058                1.902088   \n",
       "2              34.722553               17.523058                2.152103   \n",
       "\n",
       "  Weather     Store address                       Customer address  \\\n",
       "0    Good  -123.048/49.1534  -126.07325247944962/51.29548801984406   \n",
       "1    Good  -123.048/49.1534  -126.07255765553835/51.29486187466757   \n",
       "2    Good  -123.048/49.1534  -126.07443435490822/51.29566033167437   \n",
       "\n",
       "   store_longitude  store_latitude  customer_longitude  customer_latitude  \\\n",
       "0         -123.048         49.1534         -126.073252          51.295488   \n",
       "1         -123.048         49.1534         -126.072558          51.294862   \n",
       "2         -123.048         49.1534         -126.074434          51.295660   \n",
       "\n",
       "     Distance  \n",
       "0  321.473027  \n",
       "1  321.389102  \n",
       "2  321.543559  "
      ]
     },
     "execution_count": 7,
     "metadata": {},
     "output_type": "execute_result"
    }
   ],
   "source": [
    "# Secondly, I calculate the distance between the customer and the store using the geodisc function from the geopy library\n",
    "\n",
    "distance = []\n",
    "\n",
    "for z in range(len(customer_longitude)):\n",
    "    store_cords = (store_latitude[z], store_longitude[z])\n",
    "    customer_cords = (customer_latitude[z], customer_longitude[z])\n",
    "    distance.append(geodesic(store_cords, customer_cords).kilometers)\n",
    "    \n",
    "#Adding distance to our dataframe\n",
    "df['Distance'] = distance\n",
    "\n",
    "df.head(3)"
   ]
  },
  {
   "cell_type": "markdown",
   "id": "340ff26d-5b73-41a5-90ae-b5456303cd9e",
   "metadata": {},
   "source": [
    "##### Generating 'Days_taken' column "
   ]
  },
  {
   "cell_type": "code",
   "execution_count": 8,
   "id": "f41a4fd9-a49b-492d-b576-5ffe37cdc290",
   "metadata": {},
   "outputs": [
    {
     "data": {
      "text/html": [
       "<div>\n",
       "<style scoped>\n",
       "    .dataframe tbody tr th:only-of-type {\n",
       "        vertical-align: middle;\n",
       "    }\n",
       "\n",
       "    .dataframe tbody tr th {\n",
       "        vertical-align: top;\n",
       "    }\n",
       "\n",
       "    .dataframe thead th {\n",
       "        text-align: right;\n",
       "    }\n",
       "</style>\n",
       "<table border=\"1\" class=\"dataframe\">\n",
       "  <thead>\n",
       "    <tr style=\"text-align: right;\">\n",
       "      <th></th>\n",
       "      <th>Order-Date</th>\n",
       "      <th>Delivery-Date</th>\n",
       "      <th>Promised-Date</th>\n",
       "      <th>Courier</th>\n",
       "      <th>Size of the box height</th>\n",
       "      <th>Size of the box width</th>\n",
       "      <th>Size of the box length</th>\n",
       "      <th>Size of the box weight</th>\n",
       "      <th>Weather</th>\n",
       "      <th>Store address</th>\n",
       "      <th>Customer address</th>\n",
       "      <th>store_longitude</th>\n",
       "      <th>store_latitude</th>\n",
       "      <th>customer_longitude</th>\n",
       "      <th>customer_latitude</th>\n",
       "      <th>Distance</th>\n",
       "      <th>Days_taken</th>\n",
       "    </tr>\n",
       "  </thead>\n",
       "  <tbody>\n",
       "    <tr>\n",
       "      <th>0</th>\n",
       "      <td>2021-01-24</td>\n",
       "      <td>2021-01-27</td>\n",
       "      <td>2021-01-26</td>\n",
       "      <td>PS</td>\n",
       "      <td>29.632656</td>\n",
       "      <td>34.722553</td>\n",
       "      <td>17.523058</td>\n",
       "      <td>3.807421</td>\n",
       "      <td>Good</td>\n",
       "      <td>-123.048/49.1534</td>\n",
       "      <td>-126.07325247944962/51.29548801984406</td>\n",
       "      <td>-123.048</td>\n",
       "      <td>49.1534</td>\n",
       "      <td>-126.073252</td>\n",
       "      <td>51.295488</td>\n",
       "      <td>321.473027</td>\n",
       "      <td>3</td>\n",
       "    </tr>\n",
       "    <tr>\n",
       "      <th>1</th>\n",
       "      <td>2021-04-09</td>\n",
       "      <td>2021-04-13</td>\n",
       "      <td>2021-04-13</td>\n",
       "      <td>FD</td>\n",
       "      <td>29.632656</td>\n",
       "      <td>34.722553</td>\n",
       "      <td>17.523058</td>\n",
       "      <td>1.902088</td>\n",
       "      <td>Good</td>\n",
       "      <td>-123.048/49.1534</td>\n",
       "      <td>-126.07255765553835/51.29486187466757</td>\n",
       "      <td>-123.048</td>\n",
       "      <td>49.1534</td>\n",
       "      <td>-126.072558</td>\n",
       "      <td>51.294862</td>\n",
       "      <td>321.389102</td>\n",
       "      <td>4</td>\n",
       "    </tr>\n",
       "    <tr>\n",
       "      <th>2</th>\n",
       "      <td>2021-09-27</td>\n",
       "      <td>2021-10-02</td>\n",
       "      <td>2021-10-02</td>\n",
       "      <td>PS</td>\n",
       "      <td>29.632656</td>\n",
       "      <td>34.722553</td>\n",
       "      <td>17.523058</td>\n",
       "      <td>2.152103</td>\n",
       "      <td>Good</td>\n",
       "      <td>-123.048/49.1534</td>\n",
       "      <td>-126.07443435490822/51.29566033167437</td>\n",
       "      <td>-123.048</td>\n",
       "      <td>49.1534</td>\n",
       "      <td>-126.074434</td>\n",
       "      <td>51.295660</td>\n",
       "      <td>321.543559</td>\n",
       "      <td>5</td>\n",
       "    </tr>\n",
       "  </tbody>\n",
       "</table>\n",
       "</div>"
      ],
      "text/plain": [
       "  Order-Date Delivery-Date Promised-Date Courier  Size of the box height  \\\n",
       "0 2021-01-24    2021-01-27    2021-01-26      PS               29.632656   \n",
       "1 2021-04-09    2021-04-13    2021-04-13      FD               29.632656   \n",
       "2 2021-09-27    2021-10-02    2021-10-02      PS               29.632656   \n",
       "\n",
       "   Size of the box width  Size of the box length  Size of the box weight  \\\n",
       "0              34.722553               17.523058                3.807421   \n",
       "1              34.722553               17.523058                1.902088   \n",
       "2              34.722553               17.523058                2.152103   \n",
       "\n",
       "  Weather     Store address                       Customer address  \\\n",
       "0    Good  -123.048/49.1534  -126.07325247944962/51.29548801984406   \n",
       "1    Good  -123.048/49.1534  -126.07255765553835/51.29486187466757   \n",
       "2    Good  -123.048/49.1534  -126.07443435490822/51.29566033167437   \n",
       "\n",
       "   store_longitude  store_latitude  customer_longitude  customer_latitude  \\\n",
       "0         -123.048         49.1534         -126.073252          51.295488   \n",
       "1         -123.048         49.1534         -126.072558          51.294862   \n",
       "2         -123.048         49.1534         -126.074434          51.295660   \n",
       "\n",
       "     Distance  Days_taken  \n",
       "0  321.473027           3  \n",
       "1  321.389102           4  \n",
       "2  321.543559           5  "
      ]
     },
     "execution_count": 8,
     "metadata": {},
     "output_type": "execute_result"
    }
   ],
   "source": [
    "#Convert date columns to proper format\n",
    "df['Order-Date']= pd.to_datetime(df['Order-Date'])\n",
    "df['Delivery-Date']= pd.to_datetime(df['Delivery-Date'])\n",
    "\n",
    "#Creating days taken column\n",
    "df['Days_taken'] = (df['Delivery-Date'] - df['Order-Date']).dt.days\n",
    "df.head(3)"
   ]
  },
  {
   "cell_type": "markdown",
   "id": "db818817-609d-44fc-a44f-d4880a76dcb3",
   "metadata": {},
   "source": [
    "##### Encoding 'Couriers' and 'Weather' data"
   ]
  },
  {
   "cell_type": "code",
   "execution_count": 9,
   "id": "08703b26-1d9d-42c9-ac9a-c806bf6370bc",
   "metadata": {},
   "outputs": [
    {
     "name": "stdout",
     "output_type": "stream",
     "text": [
      "Couriers:  ['PS' 'FD']\n",
      "Weather types:  ['Good' 'Bad']\n"
     ]
    }
   ],
   "source": [
    "#Checking for unique values to replace\n",
    "print(\"Couriers: \",df[\"Courier\"].unique())\n",
    "print(\"Weather types: \",df[\"Weather\"].unique())"
   ]
  },
  {
   "cell_type": "code",
   "execution_count": 10,
   "id": "7605f0c7-2911-40ef-89df-31cedaeee100",
   "metadata": {},
   "outputs": [
    {
     "data": {
      "text/html": [
       "<div>\n",
       "<style scoped>\n",
       "    .dataframe tbody tr th:only-of-type {\n",
       "        vertical-align: middle;\n",
       "    }\n",
       "\n",
       "    .dataframe tbody tr th {\n",
       "        vertical-align: top;\n",
       "    }\n",
       "\n",
       "    .dataframe thead th {\n",
       "        text-align: right;\n",
       "    }\n",
       "</style>\n",
       "<table border=\"1\" class=\"dataframe\">\n",
       "  <thead>\n",
       "    <tr style=\"text-align: right;\">\n",
       "      <th></th>\n",
       "      <th>Order-Date</th>\n",
       "      <th>Delivery-Date</th>\n",
       "      <th>Promised-Date</th>\n",
       "      <th>Courier</th>\n",
       "      <th>Size of the box height</th>\n",
       "      <th>Size of the box width</th>\n",
       "      <th>Size of the box length</th>\n",
       "      <th>Size of the box weight</th>\n",
       "      <th>Weather</th>\n",
       "      <th>Store address</th>\n",
       "      <th>Customer address</th>\n",
       "      <th>store_longitude</th>\n",
       "      <th>store_latitude</th>\n",
       "      <th>customer_longitude</th>\n",
       "      <th>customer_latitude</th>\n",
       "      <th>Distance</th>\n",
       "      <th>Days_taken</th>\n",
       "    </tr>\n",
       "  </thead>\n",
       "  <tbody>\n",
       "    <tr>\n",
       "      <th>0</th>\n",
       "      <td>2021-01-24</td>\n",
       "      <td>2021-01-27</td>\n",
       "      <td>2021-01-26</td>\n",
       "      <td>1</td>\n",
       "      <td>29.632656</td>\n",
       "      <td>34.722553</td>\n",
       "      <td>17.523058</td>\n",
       "      <td>3.807421</td>\n",
       "      <td>1</td>\n",
       "      <td>-123.048/49.1534</td>\n",
       "      <td>-126.07325247944962/51.29548801984406</td>\n",
       "      <td>-123.048</td>\n",
       "      <td>49.1534</td>\n",
       "      <td>-126.073252</td>\n",
       "      <td>51.295488</td>\n",
       "      <td>321.473027</td>\n",
       "      <td>3</td>\n",
       "    </tr>\n",
       "    <tr>\n",
       "      <th>1</th>\n",
       "      <td>2021-04-09</td>\n",
       "      <td>2021-04-13</td>\n",
       "      <td>2021-04-13</td>\n",
       "      <td>0</td>\n",
       "      <td>29.632656</td>\n",
       "      <td>34.722553</td>\n",
       "      <td>17.523058</td>\n",
       "      <td>1.902088</td>\n",
       "      <td>1</td>\n",
       "      <td>-123.048/49.1534</td>\n",
       "      <td>-126.07255765553835/51.29486187466757</td>\n",
       "      <td>-123.048</td>\n",
       "      <td>49.1534</td>\n",
       "      <td>-126.072558</td>\n",
       "      <td>51.294862</td>\n",
       "      <td>321.389102</td>\n",
       "      <td>4</td>\n",
       "    </tr>\n",
       "    <tr>\n",
       "      <th>2</th>\n",
       "      <td>2021-09-27</td>\n",
       "      <td>2021-10-02</td>\n",
       "      <td>2021-10-02</td>\n",
       "      <td>1</td>\n",
       "      <td>29.632656</td>\n",
       "      <td>34.722553</td>\n",
       "      <td>17.523058</td>\n",
       "      <td>2.152103</td>\n",
       "      <td>1</td>\n",
       "      <td>-123.048/49.1534</td>\n",
       "      <td>-126.07443435490822/51.29566033167437</td>\n",
       "      <td>-123.048</td>\n",
       "      <td>49.1534</td>\n",
       "      <td>-126.074434</td>\n",
       "      <td>51.295660</td>\n",
       "      <td>321.543559</td>\n",
       "      <td>5</td>\n",
       "    </tr>\n",
       "  </tbody>\n",
       "</table>\n",
       "</div>"
      ],
      "text/plain": [
       "  Order-Date Delivery-Date Promised-Date  Courier  Size of the box height  \\\n",
       "0 2021-01-24    2021-01-27    2021-01-26        1               29.632656   \n",
       "1 2021-04-09    2021-04-13    2021-04-13        0               29.632656   \n",
       "2 2021-09-27    2021-10-02    2021-10-02        1               29.632656   \n",
       "\n",
       "   Size of the box width  Size of the box length  Size of the box weight  \\\n",
       "0              34.722553               17.523058                3.807421   \n",
       "1              34.722553               17.523058                1.902088   \n",
       "2              34.722553               17.523058                2.152103   \n",
       "\n",
       "   Weather     Store address                       Customer address  \\\n",
       "0        1  -123.048/49.1534  -126.07325247944962/51.29548801984406   \n",
       "1        1  -123.048/49.1534  -126.07255765553835/51.29486187466757   \n",
       "2        1  -123.048/49.1534  -126.07443435490822/51.29566033167437   \n",
       "\n",
       "   store_longitude  store_latitude  customer_longitude  customer_latitude  \\\n",
       "0         -123.048         49.1534         -126.073252          51.295488   \n",
       "1         -123.048         49.1534         -126.072558          51.294862   \n",
       "2         -123.048         49.1534         -126.074434          51.295660   \n",
       "\n",
       "     Distance  Days_taken  \n",
       "0  321.473027           3  \n",
       "1  321.389102           4  \n",
       "2  321.543559           5  "
      ]
     },
     "execution_count": 10,
     "metadata": {},
     "output_type": "execute_result"
    }
   ],
   "source": [
    "# Encoding 1 or 0 \n",
    "df.loc[df['Courier'] == 'PS', 'Courier'] = 1\n",
    "df.loc[df['Courier'] == 'FD', 'Courier'] = 0\n",
    "\n",
    "df.loc[df['Weather'] == 'Good', 'Weather'] = 1\n",
    "df.loc[df['Weather'] == 'Bad', 'Weather'] = 0\n",
    "\n",
    "#Convert 'Courier' and 'Weather' column to the represent int values\n",
    "df['Courier'] = df['Courier'].astype(str).astype(int)\n",
    "df['Weather'] = df['Weather'].astype(str).astype(int)\n",
    "\n",
    "df.head(3)"
   ]
  },
  {
   "cell_type": "markdown",
   "id": "b65681b4-05e8-43e6-855b-c1958546f361",
   "metadata": {},
   "source": [
    "##### Droping columns we don't need anymore"
   ]
  },
  {
   "cell_type": "code",
   "execution_count": 11,
   "id": "e70ac3bf-73e0-4251-acf5-e219237d695e",
   "metadata": {},
   "outputs": [],
   "source": [
    "df = df.drop(columns=['Order-Date', 'Delivery-Date', 'Promised-Date', 'Store address', 'Customer address', 'store_longitude', 'store_latitude', 'customer_longitude', 'customer_latitude'])"
   ]
  },
  {
   "cell_type": "markdown",
   "id": "4328f8d4-4899-4bfc-8884-6b58482947bf",
   "metadata": {},
   "source": [
    "##### Our Prepared Dataset"
   ]
  },
  {
   "cell_type": "code",
   "execution_count": 12,
   "id": "740eea32-fd27-4f82-b06e-155c92db7966",
   "metadata": {},
   "outputs": [
    {
     "data": {
      "text/html": [
       "<div>\n",
       "<style scoped>\n",
       "    .dataframe tbody tr th:only-of-type {\n",
       "        vertical-align: middle;\n",
       "    }\n",
       "\n",
       "    .dataframe tbody tr th {\n",
       "        vertical-align: top;\n",
       "    }\n",
       "\n",
       "    .dataframe thead th {\n",
       "        text-align: right;\n",
       "    }\n",
       "</style>\n",
       "<table border=\"1\" class=\"dataframe\">\n",
       "  <thead>\n",
       "    <tr style=\"text-align: right;\">\n",
       "      <th></th>\n",
       "      <th>Courier</th>\n",
       "      <th>Size of the box height</th>\n",
       "      <th>Size of the box width</th>\n",
       "      <th>Size of the box length</th>\n",
       "      <th>Size of the box weight</th>\n",
       "      <th>Weather</th>\n",
       "      <th>Distance</th>\n",
       "      <th>Days_taken</th>\n",
       "    </tr>\n",
       "  </thead>\n",
       "  <tbody>\n",
       "    <tr>\n",
       "      <th>0</th>\n",
       "      <td>1</td>\n",
       "      <td>29.632656</td>\n",
       "      <td>34.722553</td>\n",
       "      <td>17.523058</td>\n",
       "      <td>3.807421</td>\n",
       "      <td>1</td>\n",
       "      <td>321.473027</td>\n",
       "      <td>3</td>\n",
       "    </tr>\n",
       "    <tr>\n",
       "      <th>1</th>\n",
       "      <td>0</td>\n",
       "      <td>29.632656</td>\n",
       "      <td>34.722553</td>\n",
       "      <td>17.523058</td>\n",
       "      <td>1.902088</td>\n",
       "      <td>1</td>\n",
       "      <td>321.389102</td>\n",
       "      <td>4</td>\n",
       "    </tr>\n",
       "    <tr>\n",
       "      <th>2</th>\n",
       "      <td>1</td>\n",
       "      <td>29.632656</td>\n",
       "      <td>34.722553</td>\n",
       "      <td>17.523058</td>\n",
       "      <td>2.152103</td>\n",
       "      <td>1</td>\n",
       "      <td>321.543559</td>\n",
       "      <td>5</td>\n",
       "    </tr>\n",
       "    <tr>\n",
       "      <th>3</th>\n",
       "      <td>1</td>\n",
       "      <td>29.632656</td>\n",
       "      <td>34.722553</td>\n",
       "      <td>17.523058</td>\n",
       "      <td>3.802455</td>\n",
       "      <td>1</td>\n",
       "      <td>321.476244</td>\n",
       "      <td>5</td>\n",
       "    </tr>\n",
       "    <tr>\n",
       "      <th>4</th>\n",
       "      <td>0</td>\n",
       "      <td>29.632656</td>\n",
       "      <td>34.722553</td>\n",
       "      <td>17.523058</td>\n",
       "      <td>5.510081</td>\n",
       "      <td>1</td>\n",
       "      <td>321.389395</td>\n",
       "      <td>6</td>\n",
       "    </tr>\n",
       "  </tbody>\n",
       "</table>\n",
       "</div>"
      ],
      "text/plain": [
       "   Courier  Size of the box height  Size of the box width  \\\n",
       "0        1               29.632656              34.722553   \n",
       "1        0               29.632656              34.722553   \n",
       "2        1               29.632656              34.722553   \n",
       "3        1               29.632656              34.722553   \n",
       "4        0               29.632656              34.722553   \n",
       "\n",
       "   Size of the box length  Size of the box weight  Weather    Distance  \\\n",
       "0               17.523058                3.807421        1  321.473027   \n",
       "1               17.523058                1.902088        1  321.389102   \n",
       "2               17.523058                2.152103        1  321.543559   \n",
       "3               17.523058                3.802455        1  321.476244   \n",
       "4               17.523058                5.510081        1  321.389395   \n",
       "\n",
       "   Days_taken  \n",
       "0           3  \n",
       "1           4  \n",
       "2           5  \n",
       "3           5  \n",
       "4           6  "
      ]
     },
     "execution_count": 12,
     "metadata": {},
     "output_type": "execute_result"
    }
   ],
   "source": [
    "df.head()"
   ]
  },
  {
   "cell_type": "markdown",
   "id": "f3ff8f8a-1806-468f-a83d-2a910f79412f",
   "metadata": {},
   "source": [
    "## Statistical Analysis & Visualizations"
   ]
  },
  {
   "cell_type": "code",
   "execution_count": 13,
   "id": "6d5a75c0-3f22-484c-b46c-a47131b749ba",
   "metadata": {},
   "outputs": [
    {
     "data": {
      "text/html": [
       "<div>\n",
       "<style scoped>\n",
       "    .dataframe tbody tr th:only-of-type {\n",
       "        vertical-align: middle;\n",
       "    }\n",
       "\n",
       "    .dataframe tbody tr th {\n",
       "        vertical-align: top;\n",
       "    }\n",
       "\n",
       "    .dataframe thead th {\n",
       "        text-align: right;\n",
       "    }\n",
       "</style>\n",
       "<table border=\"1\" class=\"dataframe\">\n",
       "  <thead>\n",
       "    <tr style=\"text-align: right;\">\n",
       "      <th></th>\n",
       "      <th>Courier</th>\n",
       "      <th>Size of the box height</th>\n",
       "      <th>Size of the box width</th>\n",
       "      <th>Size of the box length</th>\n",
       "      <th>Size of the box weight</th>\n",
       "      <th>Weather</th>\n",
       "      <th>Distance</th>\n",
       "      <th>Days_taken</th>\n",
       "    </tr>\n",
       "  </thead>\n",
       "  <tbody>\n",
       "    <tr>\n",
       "      <th>count</th>\n",
       "      <td>9222.000000</td>\n",
       "      <td>9222.000000</td>\n",
       "      <td>9222.000000</td>\n",
       "      <td>9222.000000</td>\n",
       "      <td>9222.000000</td>\n",
       "      <td>9222.000000</td>\n",
       "      <td>9222.000000</td>\n",
       "      <td>9222.000000</td>\n",
       "    </tr>\n",
       "    <tr>\n",
       "      <th>mean</th>\n",
       "      <td>0.459770</td>\n",
       "      <td>36.062849</td>\n",
       "      <td>45.278756</td>\n",
       "      <td>21.191050</td>\n",
       "      <td>4.986162</td>\n",
       "      <td>0.832791</td>\n",
       "      <td>407.128658</td>\n",
       "      <td>7.888853</td>\n",
       "    </tr>\n",
       "    <tr>\n",
       "      <th>std</th>\n",
       "      <td>0.498406</td>\n",
       "      <td>14.943197</td>\n",
       "      <td>15.751496</td>\n",
       "      <td>8.735953</td>\n",
       "      <td>4.928290</td>\n",
       "      <td>0.373182</td>\n",
       "      <td>299.610915</td>\n",
       "      <td>6.607311</td>\n",
       "    </tr>\n",
       "    <tr>\n",
       "      <th>min</th>\n",
       "      <td>0.000000</td>\n",
       "      <td>29.632656</td>\n",
       "      <td>28.000000</td>\n",
       "      <td>17.523058</td>\n",
       "      <td>0.004348</td>\n",
       "      <td>0.000000</td>\n",
       "      <td>0.070242</td>\n",
       "      <td>1.000000</td>\n",
       "    </tr>\n",
       "    <tr>\n",
       "      <th>25%</th>\n",
       "      <td>0.000000</td>\n",
       "      <td>29.632656</td>\n",
       "      <td>34.722553</td>\n",
       "      <td>17.523058</td>\n",
       "      <td>2.195928</td>\n",
       "      <td>1.000000</td>\n",
       "      <td>175.771850</td>\n",
       "      <td>3.000000</td>\n",
       "    </tr>\n",
       "    <tr>\n",
       "      <th>50%</th>\n",
       "      <td>0.000000</td>\n",
       "      <td>29.632656</td>\n",
       "      <td>34.722553</td>\n",
       "      <td>17.523058</td>\n",
       "      <td>3.474347</td>\n",
       "      <td>1.000000</td>\n",
       "      <td>321.397798</td>\n",
       "      <td>5.000000</td>\n",
       "    </tr>\n",
       "    <tr>\n",
       "      <th>75%</th>\n",
       "      <td>1.000000</td>\n",
       "      <td>42.613262</td>\n",
       "      <td>67.558550</td>\n",
       "      <td>22.971280</td>\n",
       "      <td>6.271585</td>\n",
       "      <td>1.000000</td>\n",
       "      <td>641.713906</td>\n",
       "      <td>16.000000</td>\n",
       "    </tr>\n",
       "    <tr>\n",
       "      <th>max</th>\n",
       "      <td>1.000000</td>\n",
       "      <td>151.130000</td>\n",
       "      <td>67.558550</td>\n",
       "      <td>63.172726</td>\n",
       "      <td>49.429657</td>\n",
       "      <td>1.000000</td>\n",
       "      <td>1176.256765</td>\n",
       "      <td>25.000000</td>\n",
       "    </tr>\n",
       "  </tbody>\n",
       "</table>\n",
       "</div>"
      ],
      "text/plain": [
       "           Courier  Size of the box height  Size of the box width  \\\n",
       "count  9222.000000             9222.000000            9222.000000   \n",
       "mean      0.459770               36.062849              45.278756   \n",
       "std       0.498406               14.943197              15.751496   \n",
       "min       0.000000               29.632656              28.000000   \n",
       "25%       0.000000               29.632656              34.722553   \n",
       "50%       0.000000               29.632656              34.722553   \n",
       "75%       1.000000               42.613262              67.558550   \n",
       "max       1.000000              151.130000              67.558550   \n",
       "\n",
       "       Size of the box length  Size of the box weight      Weather  \\\n",
       "count             9222.000000             9222.000000  9222.000000   \n",
       "mean                21.191050                4.986162     0.832791   \n",
       "std                  8.735953                4.928290     0.373182   \n",
       "min                 17.523058                0.004348     0.000000   \n",
       "25%                 17.523058                2.195928     1.000000   \n",
       "50%                 17.523058                3.474347     1.000000   \n",
       "75%                 22.971280                6.271585     1.000000   \n",
       "max                 63.172726               49.429657     1.000000   \n",
       "\n",
       "          Distance   Days_taken  \n",
       "count  9222.000000  9222.000000  \n",
       "mean    407.128658     7.888853  \n",
       "std     299.610915     6.607311  \n",
       "min       0.070242     1.000000  \n",
       "25%     175.771850     3.000000  \n",
       "50%     321.397798     5.000000  \n",
       "75%     641.713906    16.000000  \n",
       "max    1176.256765    25.000000  "
      ]
     },
     "execution_count": 13,
     "metadata": {},
     "output_type": "execute_result"
    }
   ],
   "source": [
    "df.describe()"
   ]
  },
  {
   "cell_type": "code",
   "execution_count": 14,
   "id": "30486b26-9be8-4ae9-80d7-a07d17c8ea6c",
   "metadata": {},
   "outputs": [
    {
     "data": {
      "image/png": "[encoded data removed]",
      "text/plain": [
       "<Figure size 1800x360 with 2 Axes>"
      ]
     },
     "metadata": {
      "needs_background": "light"
     },
     "output_type": "display_data"
    }
   ],
   "source": [
    "#ploting  heat map of our dataset's correlations\n",
    "\n",
    "corrmat = df.corr()\n",
    "top_corr_features = corrmat.index\n",
    "plt.figure(figsize=(25,5))\n",
    "\n",
    "g=sns.heatmap(df[top_corr_features].corr(),annot=True)"
   ]
  },
  {
   "cell_type": "markdown",
   "id": "f24a52da-cf5b-40ea-8071-9a316e9a5e1e",
   "metadata": {},
   "source": [
    "##### By observing the last row (Days_taken) on the heat map we see that the box height, box length, box weigth and distance seem to be the most correlated to the number of days taken for delivery. I will now observe their relation to the days taken for delivery."
   ]
  },
  {
   "cell_type": "code",
   "execution_count": 15,
   "id": "ab3aeef6-858f-49c0-952b-12b771d26d1f",
   "metadata": {},
   "outputs": [
    {
     "data": {
      "image/png": "[encoded data removed]",
      "text/plain": [
       "<Figure size 432x288 with 4 Axes>"
      ]
     },
     "metadata": {
      "needs_background": "light"
     },
     "output_type": "display_data"
    }
   ],
   "source": [
    "fig, ((ax1, ax2), (ax3, ax4)) = plt.subplots(2, 2)\n",
    "fig.suptitle('Checking Relations')\n",
    "ax1.plot(df['Size of the box weight'], df['Days_taken'])\n",
    "ax2.plot(df['Distance'], df['Days_taken']**2, 'tab:orange')\n",
    "ax3.plot(df['Size of the box height'], -df['Days_taken'], 'tab:green')\n",
    "ax4.plot(df['Size of the box length'], -df['Days_taken']**2, 'tab:red')\n",
    "\n",
    "for ax in fig.get_axes():\n",
    "    ax.label_outer()"
   ]
  },
  {
   "cell_type": "markdown",
   "id": "c160a491-4678-4333-a9c9-9f9cbbb3720e",
   "metadata": {},
   "source": [
    "There is no linear relation between our features and our target, hence a multi linear regression will not give us good results. I will start the regression analysis with a decision tree as it does a better job at capturing the non-linearity in the data and move on from there."
   ]
  },
  {
   "cell_type": "markdown",
   "id": "425e4305-46bb-44dd-a5a0-7db9a7895410",
   "metadata": {},
   "source": [
    "#### Preparing Data for Regression Analysis"
   ]
  },
  {
   "cell_type": "code",
   "execution_count": 16,
   "id": "fa15d207-c86b-4cf6-a4c5-8133da657084",
   "metadata": {},
   "outputs": [],
   "source": [
    "df_array = np.array(df)"
   ]
  },
  {
   "cell_type": "code",
   "execution_count": 17,
   "id": "40baaeed-0344-4be0-b26a-f8c8e2f2b8d2",
   "metadata": {},
   "outputs": [
    {
     "name": "stdout",
     "output_type": "stream",
     "text": [
      "Features: (9222, 7)\n",
      "Target: (9222,)\n"
     ]
    }
   ],
   "source": [
    "#Seperating featuers and target\n",
    "X = df_array[:, :-1]\n",
    "y = df_array[:, -1]\n",
    "\n",
    "print('Features:',X.shape)\n",
    "print('Target:',y.shape)"
   ]
  },
  {
   "cell_type": "code",
   "execution_count": 18,
   "id": "0b51a6b9-80da-430b-9a8f-f9eedbdd2944",
   "metadata": {},
   "outputs": [],
   "source": [
    "#Data Splitting\n",
    "X_train, X_test, y_train, y_test = train_test_split(X, y, test_size=0.2)"
   ]
  },
  {
   "cell_type": "markdown",
   "id": "077cb429-a87c-43db-af01-8f4f9cfd8fb3",
   "metadata": {},
   "source": [
    "Scaling of our data is not needed as I am using Decision Trees and Ensemble methods"
   ]
  },
  {
   "cell_type": "markdown",
   "id": "d63b0a73-c158-424d-a0f2-7750dd64bc4a",
   "metadata": {},
   "source": [
    "## Regression Analysis: Decision Tree"
   ]
  },
  {
   "cell_type": "code",
   "execution_count": 19,
   "id": "fdab5ae7-6fe6-4036-95d3-51a04e14ad8b",
   "metadata": {},
   "outputs": [
    {
     "data": {
      "text/plain": [
       "DecisionTreeRegressor()"
      ]
     },
     "execution_count": 19,
     "metadata": {},
     "output_type": "execute_result"
    }
   ],
   "source": [
    "from sklearn.tree import DecisionTreeRegressor\n",
    "\n",
    "#Applying a decision tree regressor\n",
    "dt_regressor = DecisionTreeRegressor()\n",
    "dt_regressor.fit(X_train, y_train)"
   ]
  },
  {
   "cell_type": "code",
   "execution_count": 20,
   "id": "b164fa28-cb52-4370-bd92-1cc724108121",
   "metadata": {},
   "outputs": [],
   "source": [
    "#Predicting\n",
    "y_pred = dt_regressor.predict(X_test)"
   ]
  },
  {
   "cell_type": "markdown",
   "id": "d42d8bec-119b-4662-bfb2-bf9dd0d4f74e",
   "metadata": {},
   "source": [
    "###### Evaluating Model Metrics"
   ]
  },
  {
   "cell_type": "code",
   "execution_count": 21,
   "id": "272c0c4e-3a86-4b3f-898d-ff9ddbb56bb1",
   "metadata": {},
   "outputs": [
    {
     "name": "stdout",
     "output_type": "stream",
     "text": [
      "R-square: 0.7893239081441811\n",
      "rmse: 3.107993017399808\n"
     ]
    }
   ],
   "source": [
    "score = dt_regressor.score(X_test, y_test)\n",
    "rmse = np.sqrt(mean_squared_error(y_test,y_pred))\n",
    "\n",
    "print('R-square:',score)\n",
    "print('rmse:',rmse)"
   ]
  },
  {
   "cell_type": "markdown",
   "id": "622b8327-5eb2-460d-81e6-1f72e996e67e",
   "metadata": {},
   "source": [
    "## Regression Analysis: Random Forest"
   ]
  },
  {
   "cell_type": "code",
   "execution_count": 22,
   "id": "fbc7841e-7ab1-433d-bf4c-5ef3988b38ac",
   "metadata": {},
   "outputs": [
    {
     "data": {
      "text/plain": [
       "RandomForestRegressor(random_state=0)"
      ]
     },
     "execution_count": 22,
     "metadata": {},
     "output_type": "execute_result"
    }
   ],
   "source": [
    "from sklearn.ensemble import RandomForestRegressor\n",
    "\n",
    "random_forest_regression = RandomForestRegressor(random_state=0)\n",
    "random_forest_regression.fit(X_train, y_train)"
   ]
  },
  {
   "cell_type": "code",
   "execution_count": 23,
   "id": "58e03dd4-c1fa-49e8-8284-aa6c685b3689",
   "metadata": {},
   "outputs": [],
   "source": [
    "#Predicting\n",
    "y_pred = random_forest_regression.predict(X_test)"
   ]
  },
  {
   "cell_type": "markdown",
   "id": "bf32d1e9-9223-4f2c-8f3e-17ccf9cb1a8b",
   "metadata": {},
   "source": [
    "###### Evaluating Model Metrics"
   ]
  },
  {
   "cell_type": "code",
   "execution_count": 24,
   "id": "5aee7d9f-9e07-467c-8a89-0b3032394540",
   "metadata": {},
   "outputs": [
    {
     "name": "stdout",
     "output_type": "stream",
     "text": [
      "R-square: 0.8792850061476898\n",
      "RMSE: 2.352627\n"
     ]
    }
   ],
   "source": [
    "score = random_forest_regression.score(X_test, y_test)\n",
    "rmse = np.sqrt(mean_squared_error(y_test, y_pred))\n",
    "\n",
    "print('R-square:',score)\n",
    "print(\"RMSE: %f\" % (rmse))"
   ]
  },
  {
   "cell_type": "markdown",
   "id": "5975cc7b-57a1-4c92-9489-0706c009ef8f",
   "metadata": {},
   "source": [
    "###### Improvement from DT"
   ]
  },
  {
   "cell_type": "markdown",
   "id": "8ba16b9a-6604-4189-b0aa-f4a595daa3a2",
   "metadata": {},
   "source": [
    "## Regression Analysis: XGBoost"
   ]
  },
  {
   "cell_type": "code",
   "execution_count": 25,
   "id": "b3ea504a-dce7-4908-ba2b-7860b124bd05",
   "metadata": {},
   "outputs": [
    {
     "data": {
      "text/plain": [
       "XGBRegressor(base_score=0.5, booster='gbtree', colsample_bylevel=1,\n",
       "             colsample_bynode=1, colsample_bytree=1, enable_categorical=False,\n",
       "             gamma=0, gpu_id=-1, importance_type=None,\n",
       "             interaction_constraints='', learning_rate=0.300000012,\n",
       "             max_delta_step=0, max_depth=6, min_child_weight=1, missing=nan,\n",
       "             monotone_constraints='()', n_estimators=100, n_jobs=16,\n",
       "             num_parallel_tree=1, predictor='auto', random_state=0, reg_alpha=0,\n",
       "             reg_lambda=1, scale_pos_weight=1, subsample=1, tree_method='exact',\n",
       "             validate_parameters=1, verbosity=None)"
      ]
     },
     "execution_count": 25,
     "metadata": {},
     "output_type": "execute_result"
    }
   ],
   "source": [
    "from xgboost import XGBRegressor\n",
    "\n",
    "xgb_model = XGBRegressor()\n",
    "xgb_model.fit(X_train,y_train)"
   ]
  },
  {
   "cell_type": "code",
   "execution_count": 26,
   "id": "6e2730c4-ab8b-404a-953b-48833a506ed4",
   "metadata": {},
   "outputs": [],
   "source": [
    "#Predicting\n",
    "y_pred = xgb_model.predict(X_test)"
   ]
  },
  {
   "cell_type": "code",
   "execution_count": 27,
   "id": "7f39dafc-bfb0-4fba-9395-46a7e09c3d07",
   "metadata": {},
   "outputs": [
    {
     "name": "stdout",
     "output_type": "stream",
     "text": [
      "R-square: 0.9054964884874498\n",
      "RMSE: 2.081596\n"
     ]
    }
   ],
   "source": [
    "score = xgb_model.score(X_test, y_test)\n",
    "rmse = np.sqrt(mean_squared_error(y_test, y_pred))\n",
    "\n",
    "\n",
    "print('R-square:',score)\n",
    "print(\"RMSE: %f\" % (rmse))"
   ]
  },
  {
   "cell_type": "markdown",
   "id": "a5114e33-ba4a-4d3d-b14d-85b451c25189",
   "metadata": {},
   "source": [
    "##### Here we can see that out of all the base models, XGBoost gave us an R2 score closest to 1, and the closest Root mean square error to 0. Hence, I will now optimize the hyperparameters of the XGBoost model."
   ]
  },
  {
   "cell_type": "markdown",
   "id": "53ed3013-24f7-49b4-836b-038d744b6521",
   "metadata": {},
   "source": [
    "## XGBoost Hyperparameter Tuning"
   ]
  },
  {
   "cell_type": "code",
   "execution_count": 28,
   "id": "847399fa-8252-4b0b-9b54-2049a428568e",
   "metadata": {},
   "outputs": [],
   "source": [
    "from sklearn.model_selection import RandomizedSearchCV, GridSearchCV"
   ]
  },
  {
   "cell_type": "code",
   "execution_count": 29,
   "id": "6af9df21-0b18-4799-ae67-1343a44a257a",
   "metadata": {},
   "outputs": [],
   "source": [
    "## Hyperparameters I am optimizing\n",
    "\n",
    "params={\n",
    " \"learning_rate\"    : [0.05, 0.10, 0.15, 0.20, 0.25, 0.30 ] ,\n",
    " \"max_depth\"        : [ 3, 4, 5, 6, 8, 10, 12, 15],\n",
    " \"n_estimators\"     : [ 50, 100, 200, 300, 500, 700, 1000 ],\n",
    " \"subsample\"        : [ 0.1, 0.3, 0.5, 0.7, 0.9 ],\n",
    " \"colsample_bytree\" : [ 0.3, 0.4, 0.5 , 0.7, 0.9, 1 ]\n",
    "    \n",
    "}"
   ]
  },
  {
   "cell_type": "code",
   "execution_count": 35,
   "id": "95ab231d-52db-4404-bdaf-1f0892efacb1",
   "metadata": {},
   "outputs": [
    {
     "data": {
      "text/plain": [
       "{'subsample': 0.7,\n",
       " 'n_estimators': 700,\n",
       " 'max_depth': 3,\n",
       " 'learning_rate': 0.25,\n",
       " 'colsample_bytree': 0.9}"
      ]
     },
     "execution_count": 35,
     "metadata": {},
     "output_type": "execute_result"
    }
   ],
   "source": [
    "#Using Randomized search for optimization, cross validation = 5\n",
    "random_search=RandomizedSearchCV(xgb_model,param_distributions=params,n_iter=5,scoring=None,n_jobs=-1,cv=5)\n",
    "random_search.fit(X_train,y_train)\n",
    "\n",
    "#Obtaining the best values for the parameters we are tuning\n",
    "random_search.best_params_"
   ]
  },
  {
   "cell_type": "markdown",
   "id": "6a4878c4-b23e-4d96-bbd4-69f05945aa80",
   "metadata": {
    "tags": []
   },
   "source": [
    "### Fitting a XGBoost Regressor with our best found Hyperparaters"
   ]
  },
  {
   "cell_type": "code",
   "execution_count": 36,
   "id": "f235bcb9-a40c-4b69-abc8-7f239dd83d23",
   "metadata": {},
   "outputs": [
    {
     "data": {
      "text/plain": [
       "XGBRegressor(base_score=0.5, booster='gbtree', colsample_bylevel=1,\n",
       "             colsample_bynode=1, colsample_bytree=0.9, enable_categorical=False,\n",
       "             gamma=0, gpu_id=-1, importance_type=None,\n",
       "             interaction_constraints='', learning_rate=0.25, max_delta_step=0,\n",
       "             max_depth=3, min_child_weight=1, missing=nan,\n",
       "             monotone_constraints='()', n_estimators=700, n_jobs=16,\n",
       "             num_parallel_tree=1, predictor='auto', random_state=0, reg_alpha=0,\n",
       "             reg_lambda=1, scale_pos_weight=1, subsample=0.7,\n",
       "             tree_method='exact', validate_parameters=1, verbosity=None)"
      ]
     },
     "execution_count": 36,
     "metadata": {},
     "output_type": "execute_result"
    }
   ],
   "source": [
    "tuned_xgb = XGBRegressor(n_estimators=700, max_depth=3, learning_rate=0.25, subsample=0.7, colsample_bytree=0.9)\n",
    "tuned_xgb.fit(X_train,y_train)"
   ]
  },
  {
   "cell_type": "code",
   "execution_count": 37,
   "id": "499c7dad-ae8c-403b-bacc-5d94a689f22b",
   "metadata": {},
   "outputs": [],
   "source": [
    "y_pred = tuned_xgb.predict(X_test)"
   ]
  },
  {
   "cell_type": "code",
   "execution_count": 39,
   "id": "efd73721-073d-42f9-94c9-b43119c89679",
   "metadata": {},
   "outputs": [
    {
     "name": "stdout",
     "output_type": "stream",
     "text": [
      "R-square: 0.9175218030109148\n",
      "RMSE: 1.944652\n"
     ]
    }
   ],
   "source": [
    "score = tuned_xgb.score(X_test, y_test)\n",
    "rmse = np.sqrt(mean_squared_error(y_test, y_pred))\n",
    "\n",
    "print('R-square:',score)\n",
    "print(\"RMSE: %f\" % (rmse))"
   ]
  },
  {
   "cell_type": "markdown",
   "id": "8851f9d2-df3f-499f-bd3e-4dd893decdfb",
   "metadata": {},
   "source": [
    "The Tuned XGBoost model has given us slighty better results, not significant but better nonetheless. **tuned_xgb** is my best model."
   ]
  },
  {
   "cell_type": "markdown",
   "id": "fef348ae-d1c0-4f67-bb16-27f9a99dd2e0",
   "metadata": {
    "tags": []
   },
   "source": [
    "## Predicting on the Test CSV"
   ]
  },
  {
   "cell_type": "markdown",
   "id": "f32e3ab8-e321-4013-a9ce-2e6b58ed6f6c",
   "metadata": {},
   "source": [
    "Performing the same data preprocessing"
   ]
  },
  {
   "cell_type": "code",
   "execution_count": 40,
   "id": "cbe76470-e81e-4275-a9cb-2a53c40ba4bd",
   "metadata": {},
   "outputs": [
    {
     "name": "stdout",
     "output_type": "stream",
     "text": [
      "(3222, 7)\n"
     ]
    }
   ],
   "source": [
    "#Running the data_test csv through the same process\n",
    "test_data = pd.read_csv('data_test.csv')\n",
    "\n",
    "test_data[\"Store address\"] = test_data[\"Store address\"].replace(\"'\", \"\", regex=True)\n",
    "test_data[\"Customer address\"] = test_data[\"Customer address\"].replace(\"'\", \"\", regex=True)\n",
    "\n",
    "store_address_array = np.array(test_data['Store address'])\n",
    "customer_address_array = np.array(test_data['Customer address'])\n",
    "\n",
    "store_longitude = []\n",
    "store_latitude = []\n",
    "customer_longitude = []\n",
    "customer_latitude = []\n",
    "\n",
    "for x in store_address_array:\n",
    "    store_longitude.append(float(x.split(\"/\")[0]))\n",
    "    store_latitude.append(float(x.split(\"/\")[1]))\n",
    "    \n",
    "for x in customer_address_array:\n",
    "    customer_longitude.append(float(x.split(\"/\")[0]))\n",
    "    customer_latitude.append(float(x.split(\"/\")[1]))\n",
    "    \n",
    "test_data['store_longitude'] = store_longitude\n",
    "test_data['store_latitude'] = store_latitude\n",
    "\n",
    "test_data['customer_longitude'] = customer_longitude\n",
    "test_data['customer_latitude'] = customer_latitude\n",
    "\n",
    "distance = []\n",
    "\n",
    "for z in range(len(customer_longitude)):\n",
    "    store_cords = (store_latitude[z], store_longitude[z])\n",
    "    customer_cords = (customer_latitude[z], customer_longitude[z])\n",
    "    distance.append(geodesic(store_cords, customer_cords).kilometers)\n",
    "    \n",
    "test_data['Distance'] = distance\n",
    "\n",
    "\n",
    "\n",
    "test_data.loc[test_data['Courier'] == 'PS', 'Courier'] = 1\n",
    "test_data.loc[test_data['Courier'] == 'FD', 'Courier'] = 0\n",
    "\n",
    "test_data.loc[test_data['Weather'] == 'Good', 'Weather'] = 1\n",
    "test_data.loc[test_data['Weather'] == 'Bad', 'Weather'] = 0\n",
    "\n",
    "\n",
    "test_data['Courier'] = test_data['Courier'].astype(str).astype(int)\n",
    "test_data['Weather'] = test_data['Weather'].astype(str).astype(int)\n",
    "\n",
    "test_data = test_data.drop(columns=['Order-Date', 'Promised-Date', 'Store address', 'Customer address', 'store_longitude', 'store_latitude', 'customer_longitude', 'customer_latitude'])\n",
    "\n",
    "test_data_array = np.array(test_data)\n",
    "print(test_data_array.shape)"
   ]
  },
  {
   "cell_type": "markdown",
   "id": "143eaceb-9d44-4198-9475-c4fc04a4024a",
   "metadata": {},
   "source": [
    "##### Predicting"
   ]
  },
  {
   "cell_type": "code",
   "execution_count": 42,
   "id": "f9bf7294-29f8-4b55-80c1-7a4207a2610c",
   "metadata": {},
   "outputs": [],
   "source": [
    "#Predictions\n",
    "test_predictions = tuned_xgb.predict(test_data_array)\n",
    "test_predictions = np.round(test_predictions, 0)"
   ]
  },
  {
   "cell_type": "code",
   "execution_count": 43,
   "id": "e3a95e1d-2dd9-489e-a948-0ebd185598f1",
   "metadata": {},
   "outputs": [
    {
     "data": {
      "text/html": [
       "<div>\n",
       "<style scoped>\n",
       "    .dataframe tbody tr th:only-of-type {\n",
       "        vertical-align: middle;\n",
       "    }\n",
       "\n",
       "    .dataframe tbody tr th {\n",
       "        vertical-align: top;\n",
       "    }\n",
       "\n",
       "    .dataframe thead th {\n",
       "        text-align: right;\n",
       "    }\n",
       "</style>\n",
       "<table border=\"1\" class=\"dataframe\">\n",
       "  <thead>\n",
       "    <tr style=\"text-align: right;\">\n",
       "      <th></th>\n",
       "      <th>Number of Days</th>\n",
       "    </tr>\n",
       "  </thead>\n",
       "  <tbody>\n",
       "    <tr>\n",
       "      <th>0</th>\n",
       "      <td>7.0</td>\n",
       "    </tr>\n",
       "    <tr>\n",
       "      <th>1</th>\n",
       "      <td>11.0</td>\n",
       "    </tr>\n",
       "    <tr>\n",
       "      <th>2</th>\n",
       "      <td>6.0</td>\n",
       "    </tr>\n",
       "    <tr>\n",
       "      <th>3</th>\n",
       "      <td>10.0</td>\n",
       "    </tr>\n",
       "    <tr>\n",
       "      <th>4</th>\n",
       "      <td>6.0</td>\n",
       "    </tr>\n",
       "    <tr>\n",
       "      <th>...</th>\n",
       "      <td>...</td>\n",
       "    </tr>\n",
       "    <tr>\n",
       "      <th>3217</th>\n",
       "      <td>9.0</td>\n",
       "    </tr>\n",
       "    <tr>\n",
       "      <th>3218</th>\n",
       "      <td>9.0</td>\n",
       "    </tr>\n",
       "    <tr>\n",
       "      <th>3219</th>\n",
       "      <td>3.0</td>\n",
       "    </tr>\n",
       "    <tr>\n",
       "      <th>3220</th>\n",
       "      <td>2.0</td>\n",
       "    </tr>\n",
       "    <tr>\n",
       "      <th>3221</th>\n",
       "      <td>7.0</td>\n",
       "    </tr>\n",
       "  </tbody>\n",
       "</table>\n",
       "<p>3222 rows × 1 columns</p>\n",
       "</div>"
      ],
      "text/plain": [
       "      Number of Days\n",
       "0                7.0\n",
       "1               11.0\n",
       "2                6.0\n",
       "3               10.0\n",
       "4                6.0\n",
       "...              ...\n",
       "3217             9.0\n",
       "3218             9.0\n",
       "3219             3.0\n",
       "3220             2.0\n",
       "3221             7.0\n",
       "\n",
       "[3222 rows x 1 columns]"
      ]
     },
     "execution_count": 43,
     "metadata": {},
     "output_type": "execute_result"
    }
   ],
   "source": [
    "#Outputing CSV\n",
    "predicted_days_df = pd.DataFrame(test_predictions, columns=['Number of Days'])\n",
    "predicted_days_df.to_csv('Ahsan_Khan.csv',index=False)\n",
    "predicted_days_df"
   ]
  },
  {
   "cell_type": "markdown",
   "id": "ce02ab10-5d02-4ab0-8e39-5557929d26a1",
   "metadata": {},
   "source": [
    "## Further Improvements"
   ]
  },
  {
   "cell_type": "markdown",
   "id": "d31be3f2-adbf-4ec3-94ba-1bc80da50a95",
   "metadata": {},
   "source": [
    "The variables of the weather feature are sort of vague in the sense 'bad' can be referring to very low temperatures OR a lot of snow. For example, 30 cm of snow at -4 celcius would impact the delivery time more compared to a temperature of -30 celcius but no snow. Hence, this feature can be further expanded into observing the snow on the ground and precipitation. Historical weather data of the area around stores and customers can be found here: https://climate.weather.gc.ca/historical_data/search_historic_data_e.html. "
   ]
  },
  {
   "cell_type": "markdown",
   "id": "f59353c2-4e04-4ff8-9fc2-fb2bff797955",
   "metadata": {},
   "source": [
    "Here is the weather data around the burnaby store in 2021."
   ]
  },
  {
   "cell_type": "code",
   "execution_count": 44,
   "id": "a475685f-2dc9-459c-934e-02685d67eee4",
   "metadata": {},
   "outputs": [
    {
     "data": {
      "text/html": [
       "<div>\n",
       "<style scoped>\n",
       "    .dataframe tbody tr th:only-of-type {\n",
       "        vertical-align: middle;\n",
       "    }\n",
       "\n",
       "    .dataframe tbody tr th {\n",
       "        vertical-align: top;\n",
       "    }\n",
       "\n",
       "    .dataframe thead th {\n",
       "        text-align: right;\n",
       "    }\n",
       "</style>\n",
       "<table border=\"1\" class=\"dataframe\">\n",
       "  <thead>\n",
       "    <tr style=\"text-align: right;\">\n",
       "      <th></th>\n",
       "      <th>Longitude (x)</th>\n",
       "      <th>Latitude (y)</th>\n",
       "      <th>Station Name</th>\n",
       "      <th>Climate ID</th>\n",
       "      <th>Date/Time</th>\n",
       "      <th>Year</th>\n",
       "      <th>Month</th>\n",
       "      <th>Day</th>\n",
       "      <th>Data Quality</th>\n",
       "      <th>Max Temp (°C)</th>\n",
       "      <th>...</th>\n",
       "      <th>Total Snow (cm)</th>\n",
       "      <th>Total Snow Flag</th>\n",
       "      <th>Total Precip (mm)</th>\n",
       "      <th>Total Precip Flag</th>\n",
       "      <th>Snow on Grnd (cm)</th>\n",
       "      <th>Snow on Grnd Flag</th>\n",
       "      <th>Dir of Max Gust (10s deg)</th>\n",
       "      <th>Dir of Max Gust Flag</th>\n",
       "      <th>Spd of Max Gust (km/h)</th>\n",
       "      <th>Spd of Max Gust Flag</th>\n",
       "    </tr>\n",
       "  </thead>\n",
       "  <tbody>\n",
       "    <tr>\n",
       "      <th>0</th>\n",
       "      <td>-123.09</td>\n",
       "      <td>49.17</td>\n",
       "      <td>RICHMOND NATURE PARK</td>\n",
       "      <td>1106PF7</td>\n",
       "      <td>2021-01-01</td>\n",
       "      <td>2021</td>\n",
       "      <td>1</td>\n",
       "      <td>1</td>\n",
       "      <td>†</td>\n",
       "      <td>10.0</td>\n",
       "      <td>...</td>\n",
       "      <td>0.0</td>\n",
       "      <td>NaN</td>\n",
       "      <td>8.2</td>\n",
       "      <td>NaN</td>\n",
       "      <td>0.0</td>\n",
       "      <td>NaN</td>\n",
       "      <td>NaN</td>\n",
       "      <td>NaN</td>\n",
       "      <td>NaN</td>\n",
       "      <td>NaN</td>\n",
       "    </tr>\n",
       "    <tr>\n",
       "      <th>1</th>\n",
       "      <td>-123.09</td>\n",
       "      <td>49.17</td>\n",
       "      <td>RICHMOND NATURE PARK</td>\n",
       "      <td>1106PF7</td>\n",
       "      <td>2021-01-02</td>\n",
       "      <td>2021</td>\n",
       "      <td>1</td>\n",
       "      <td>2</td>\n",
       "      <td>†</td>\n",
       "      <td>9.0</td>\n",
       "      <td>...</td>\n",
       "      <td>0.0</td>\n",
       "      <td>NaN</td>\n",
       "      <td>12.2</td>\n",
       "      <td>NaN</td>\n",
       "      <td>0.0</td>\n",
       "      <td>NaN</td>\n",
       "      <td>NaN</td>\n",
       "      <td>NaN</td>\n",
       "      <td>NaN</td>\n",
       "      <td>NaN</td>\n",
       "    </tr>\n",
       "    <tr>\n",
       "      <th>2</th>\n",
       "      <td>-123.09</td>\n",
       "      <td>49.17</td>\n",
       "      <td>RICHMOND NATURE PARK</td>\n",
       "      <td>1106PF7</td>\n",
       "      <td>2021-01-03</td>\n",
       "      <td>2021</td>\n",
       "      <td>1</td>\n",
       "      <td>3</td>\n",
       "      <td>†</td>\n",
       "      <td>10.0</td>\n",
       "      <td>...</td>\n",
       "      <td>0.0</td>\n",
       "      <td>NaN</td>\n",
       "      <td>18.6</td>\n",
       "      <td>NaN</td>\n",
       "      <td>0.0</td>\n",
       "      <td>NaN</td>\n",
       "      <td>NaN</td>\n",
       "      <td>NaN</td>\n",
       "      <td>NaN</td>\n",
       "      <td>NaN</td>\n",
       "    </tr>\n",
       "  </tbody>\n",
       "</table>\n",
       "<p>3 rows × 31 columns</p>\n",
       "</div>"
      ],
      "text/plain": [
       "   Longitude (x)  Latitude (y)          Station Name Climate ID   Date/Time  \\\n",
       "0        -123.09         49.17  RICHMOND NATURE PARK    1106PF7  2021-01-01   \n",
       "1        -123.09         49.17  RICHMOND NATURE PARK    1106PF7  2021-01-02   \n",
       "2        -123.09         49.17  RICHMOND NATURE PARK    1106PF7  2021-01-03   \n",
       "\n",
       "   Year  Month  Day Data Quality  Max Temp (°C)  ... Total Snow (cm)  \\\n",
       "0  2021      1    1            †           10.0  ...             0.0   \n",
       "1  2021      1    2            †            9.0  ...             0.0   \n",
       "2  2021      1    3            †           10.0  ...             0.0   \n",
       "\n",
       "   Total Snow Flag Total Precip (mm)  Total Precip Flag Snow on Grnd (cm)  \\\n",
       "0              NaN               8.2                NaN               0.0   \n",
       "1              NaN              12.2                NaN               0.0   \n",
       "2              NaN              18.6                NaN               0.0   \n",
       "\n",
       "   Snow on Grnd Flag Dir of Max Gust (10s deg)  Dir of Max Gust Flag  \\\n",
       "0                NaN                       NaN                   NaN   \n",
       "1                NaN                       NaN                   NaN   \n",
       "2                NaN                       NaN                   NaN   \n",
       "\n",
       "  Spd of Max Gust (km/h)  Spd of Max Gust Flag  \n",
       "0                    NaN                   NaN  \n",
       "1                    NaN                   NaN  \n",
       "2                    NaN                   NaN  \n",
       "\n",
       "[3 rows x 31 columns]"
      ]
     },
     "execution_count": 44,
     "metadata": {},
     "output_type": "execute_result"
    }
   ],
   "source": [
    "weather_data = pd.read_csv('richmond_nature_park_2021_weather_data.csv')\n",
    "weather_data.head(3)"
   ]
  },
  {
   "cell_type": "code",
   "execution_count": 45,
   "id": "12e5817d-b044-49e4-9756-0da5ce978595",
   "metadata": {},
   "outputs": [
    {
     "name": "stdout",
     "output_type": "stream",
     "text": [
      "Max snow in a day for 2021 (Centimeters): 25.0\n",
      "Lowest temperature in a day in 2021(Celcius): -9.8\n",
      "Max rain (millimeters) in a day 78.8\n"
     ]
    }
   ],
   "source": [
    "print('Max snow in a day for 2021 (Centimeters):',weather_data['Total Snow (cm)'].max())\n",
    "print('Lowest temperature in a day in 2021(Celcius):',weather_data['Mean Temp (°C)'].min())\n",
    "print('Max rain (millimeters) in a day',weather_data['Total Rain (mm)'].max())"
   ]
  },
  {
   "cell_type": "markdown",
   "id": "7ea5f3fc-cbe2-4ba6-b563-e3f278860385",
   "metadata": {},
   "source": [
    "For example, the cell above shows us the worst weather conditions on different days of the year 2021 around the burnaby store. Each of these would have a different impact on the delivery time depending on the combination of these three weather conditions."
   ]
  },
  {
   "cell_type": "markdown",
   "id": "daecf0a8-af50-4df2-ac2d-61de69200d27",
   "metadata": {},
   "source": [
    "The feature 'weather' in our dataset represents the conditions between some range of dates (maybe between order-date and promised-date?). So a similar approach can be taken for future predictions on the test dataset by including the weather forecast of the possibile snow, rain and temperature in that same range of dates."
   ]
  },
  {
   "cell_type": "markdown",
   "id": "d3bab399-6179-4971-bb73-13c91a52ef46",
   "metadata": {
    "tags": []
   },
   "source": [
    "I would like to thank you for giving me the opportunity to work on Best Buy's dataset, I had a good time working on this challenge.\n",
    "##### Best Regards, Ahsan"
   ]
  }
 ],
 "metadata": {
  "kernelspec": {
   "display_name": "Python 3 (ipykernel)",
   "language": "python",
   "name": "python3"
  },
  "language_info": {
   "codemirror_mode": {
    "name": "ipython",
    "version": 3
   },
   "file_extension": ".py",
   "mimetype": "text/x-python",
   "name": "python",
   "nbconvert_exporter": "python",
   "pygments_lexer": "ipython3",
   "version": "3.9.7"
  }
 },
 "nbformat": 4,
 "nbformat_minor": 5
}
